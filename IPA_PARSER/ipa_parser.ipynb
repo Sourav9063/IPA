{
 "cells": [
  {
   "cell_type": "code",
   "execution_count": 2,
   "metadata": {},
   "outputs": [],
   "source": [
    "import pandas as pd\n",
    "import requests\n",
    "import warnings\n",
    "import time\n",
    "import multiprocessing\n",
    "import threading\n",
    "from concurrent.futures import ThreadPoolExecutor\n",
    "# from google.colab import files\n",
    "warnings.filterwarnings('ignore', message='Unverified HTTPS request')"
   ]
  },
  {
   "cell_type": "code",
   "execution_count": 3,
   "metadata": {},
   "outputs": [],
   "source": [
    "df = pd.read_csv('ipa_validation_batch1.csv')"
   ]
  },
  {
   "cell_type": "code",
   "execution_count": 6,
   "metadata": {},
   "outputs": [],
   "source": [
    "# char_list_dependent=['̯', 'ʰ', 'ʱ', 'ʰ', '̪', '̪', '̃', '̪', 'ʰ',\"ʲ\",'ʰ', 'ʱ', 'ʲ', 'ʷ', 'ː', '̃', '̆', '̑', '̪', '̯', '͡',]\n",
    "char_list_unique_all=['F', 'a', 'b', 'c', 'd', 'e', 'f', 'g', 'h', 'i', 'j', 'k', 'l', 'm', 'n', 'o', 'p', 'r', 's', 't', 'u', 'v', 'z', 'ø', 'ŋ', 'ɐ', 'ɔ', 'ɛ', 'ɟ', 'ɡ', 'ɦ', 'ɪ', 'ɽ', 'ɾ', 'ʃ', 'ʰ', 'ʱ', 'ʲ', 'ʷ', 'ː', '̃', '̆', '̑', '̪', '̯', '͡']\n",
    "\n",
    "char_list_unique=['F','a', 'b', 'c', 'd', 'e', 'f', 'g', 'h', 'i', 'j', 'k', 'l', 'm', 'n', 'o', 'p', 'r', 's', 't', 'u', 'v', 'z', 'ø', 'ŋ', 'ɐ', 'ɔ', 'ɛ', 'ɟ', 'ɡ', 'ɦ', 'ɪ', 'ɽ', 'ɾ', 'ʃ', 'ʰ', 'ʱ', 'ʲ', 'ʷ', 'ː', '̃', '̆', '̑', '̪', '̯', '͡',]\n",
    "\n",
    "ipa_vowels=['a', 'e', 'i', 'o', 'u', 'ɐ', 'ɔ', 'ɛ', 'ɪ']\n",
    "ipa_dependent=['̃', 'ː', '̯', '̑', 'ʰ', 'ʱ', '̪', 'ʷ', '͡', 'ʲ', '̆']\n",
    "ipa_short_vowels=['ɪ', 'ɛ', 'æ', 'ɑ', 'ɔ', 'ʊ', 'ʌ', 'ə']\n",
    "ipa_extra=['õ']\n",
    "\n",
    "ipa_consonants=['b', 'c', 'd', 'f', 'g', 'h', 'j', 'k', 'l', 'm', 'n', 'p', 'r', 's', 't', 'v', 'z', 'ŋ', 'ɟ', 'ɡ', 'ɦ', 'ɽ', 'ɾ', 'ʃ']\n",
    "# ipa_consonants=['b', 'c', 'd', 'f', 'g', 'h', 'j', 'k', 'l', 'm', 'n', 'p', 'r', 's', 't', 'v', 'z', 'ø', 'ŋ', 'ɟ', 'ɡ', 'ɦ', 'ɽ', 'ɾ', 'ʃ', 'ʰ', 'ʱ', 'ʲ', 'ʷ']\n"
   ]
  },
  {
   "cell_type": "code",
   "execution_count": 7,
   "metadata": {},
   "outputs": [],
   "source": [
    "sub_2000_3000 = df.iloc[2000:3000]\n",
    "sub_2000_3000[\"ɪpas\"]\n",
    "for row in df.itertuples():\n",
    "  if type(row.ɪpas)==float:\n",
    "    continue\n",
    "  for ch in row.ɪpas:\n",
    "    if ch not in char_list_unique_all:\n",
    "      char_list_unique_all.append(ch)\n",
    "\n",
    "\n",
    "  \n",
    "    # print(f\"{row.Index} {row.ɪpas} {row.words}\")\n",
    "    # break\n",
    "    # if ch ==\"ø\":\n",
    "    #   print(f\"{row.Index} {row.ɪpas} {row.words}\")\n",
    "    #   break"
   ]
  },
  {
   "cell_type": "code",
   "execution_count": 9,
   "metadata": {},
   "outputs": [
    {
     "name": "stdout",
     "output_type": "stream",
     "text": [
      "['F', 'a', 'b', 'c', 'd', 'e', 'f', 'g', 'h', 'i', 'j', 'k', 'l', 'm', 'n', 'o', 'p', 'r', 's', 't', 'u', 'v', 'z', 'ø', 'ŋ', 'ɐ', 'ɔ', 'ɛ', 'ɟ', 'ɡ', 'ɦ', 'ɪ', 'ɽ', 'ɾ', 'ʃ', 'ʰ', 'ʱ', 'ʲ', 'ʷ', 'ː', '̃', '̆', '̑', '̪', '̯', '͡']\n"
     ]
    }
   ],
   "source": [
    "print(char_list_unique)"
   ]
  },
  {
   "cell_type": "code",
   "execution_count": 25,
   "metadata": {},
   "outputs": [
    {
     "name": "stdout",
     "output_type": "stream",
     "text": [
      "ɔ\n",
      "ʃ\n",
      "ɔ\n",
      "h\n",
      "ɐ\n",
      "ʲ\n",
      "o\n",
      "t\n",
      "̪\n",
      "t\n",
      "̪\n",
      "o\n"
     ]
    }
   ],
   "source": [
    "test=\"ɔʃɔhɐʲot̪t̪o\"\n",
    "for ch in test:\n",
    "  print(ch)"
   ]
  },
  {
   "cell_type": "code",
   "execution_count": 11,
   "metadata": {},
   "outputs": [
    {
     "name": "stdout",
     "output_type": "stream",
     "text": [
      "['u', '̯', 'g', 'ʰ', 'b', 'ʱ', 'ɽ', 'ʰ', 't', '̪', 't', '̪', 'o', '̃', 'd', '̪', 'ʰ']\n"
     ]
    }
   ],
   "source": [
    "dependent_ipa=\"u̯gʰbʱɽʰt̪t̪õd̪ʰ\"\n",
    "dependent_ipa_list=[\"ʰ\",\"̃\",\"ʱ\",\"\",\"̯\",\"̪\",\"̱\",\"̊\",\"̚\",\"̈\",\"̥\",\"̬\",\"̤\",\"̰\",\"̼\",\"̹\",\"̜\",\"̟\",\"̠\",\"̽\",\"̩\",\"̯\",\"̮\",\"̪\",\"̤\",\"̞\",\"̝\",\"̘\",\"̙\",\"̆\",\"̑\",\"̊\",\"̌\",\"\"]\n",
    "list_of_char=[]\n",
    "for ch in dependent_ipa:\n",
    "\n",
    "  list_of_char.append(ch)\n",
    "\n",
    "print(list_of_char)\n"
   ]
  },
  {
   "cell_type": "code",
   "execution_count": 20,
   "metadata": {},
   "outputs": [
    {
     "name": "stdout",
     "output_type": "stream",
     "text": [
      "['̯', 'ʰ', 'ʱ', 'ʰ', '̪', '̪', '̃', '̪', 'ʰ']\n"
     ]
    }
   ],
   "source": [
    "list_of_char.remove(\"d\")\n",
    "print(list_of_char)"
   ]
  }
 ],
 "metadata": {
  "kernelspec": {
   "display_name": "base",
   "language": "python",
   "name": "python3"
  },
  "language_info": {
   "codemirror_mode": {
    "name": "ipython",
    "version": 3
   },
   "file_extension": ".py",
   "mimetype": "text/x-python",
   "name": "python",
   "nbconvert_exporter": "python",
   "pygments_lexer": "ipython3",
   "version": "3.11.4"
  }
 },
 "nbformat": 4,
 "nbformat_minor": 2
}
