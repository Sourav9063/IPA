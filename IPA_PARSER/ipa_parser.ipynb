{
 "cells": [
  {
   "cell_type": "code",
   "execution_count": 1,
   "metadata": {},
   "outputs": [],
   "source": [
    "import pandas as pd\n",
    "import requests\n",
    "import warnings\n",
    "import time\n",
    "import multiprocessing\n",
    "import threading\n",
    "from concurrent.futures import ThreadPoolExecutor\n",
    "# from google.colab import files\n",
    "warnings.filterwarnings('ignore', message='Unverified HTTPS request')"
   ]
  },
  {
   "cell_type": "code",
   "execution_count": 4,
   "metadata": {},
   "outputs": [
    {
     "data": {
      "text/html": [
       "<div>\n",
       "<style scoped>\n",
       "    .dataframe tbody tr th:only-of-type {\n",
       "        vertical-align: middle;\n",
       "    }\n",
       "\n",
       "    .dataframe tbody tr th {\n",
       "        vertical-align: top;\n",
       "    }\n",
       "\n",
       "    .dataframe thead th {\n",
       "        text-align: right;\n",
       "    }\n",
       "</style>\n",
       "<table border=\"1\" class=\"dataframe\">\n",
       "  <thead>\n",
       "    <tr style=\"text-align: right;\">\n",
       "      <th></th>\n",
       "      <th>e_index</th>\n",
       "      <th>sentence</th>\n",
       "      <th>clean_validated_ipa</th>\n",
       "    </tr>\n",
       "  </thead>\n",
       "  <tbody>\n",
       "    <tr>\n",
       "      <th>0</th>\n",
       "      <td>12</td>\n",
       "      <td>গৃহ নিজ কার্য সমাপল জান।।কো সখী দধি মন্থন করু ...</td>\n",
       "      <td>gɾɪho nɪɟ kɐɾɟo ʃɔmɐpol ɟɐn।।ko ʃokʰɪ d̪od̪ʱɪ ...</td>\n",
       "    </tr>\n",
       "    <tr>\n",
       "      <th>2</th>\n",
       "      <td>69</td>\n",
       "      <td>থাইল্যান্ড বা শ্যামদেশের রাজধানী।তপন এক মাস হল...</td>\n",
       "      <td>t̪ʰɐɪ̯lɛnd bɐ ʃɛmd̪eʃeɾ ɾɐɟd̪ʱɐnɪ।t̪ɔpon ɛk mɐ...</td>\n",
       "    </tr>\n",
       "    <tr>\n",
       "      <th>3</th>\n",
       "      <td>66</td>\n",
       "      <td>শিক্ষে হোক বেটার।দেব-বাড়ির ডাকাতি ও বংশীর ছেল...</td>\n",
       "      <td>ʃɪkkʰe hok betɐɾ।d̪eb-bɐɽɪɾ dɐkɐt̪ɪ o bɔŋʃɪɾ c...</td>\n",
       "    </tr>\n",
       "    <tr>\n",
       "      <th>4</th>\n",
       "      <td>30</td>\n",
       "      <td>যদি বলেন, বাড়িতে নেই!খুব হৈ-হল্লা করলে শেষ পর্...</td>\n",
       "      <td>ɟod̪ɪ bɔlen, bɐɽɪt̪e neɪ̯!kʰub ho͡ɪ̯-hollɐ koɾ...</td>\n",
       "    </tr>\n",
       "    <tr>\n",
       "      <th>5</th>\n",
       "      <td>66</td>\n",
       "      <td>বাঃ, বেশ নাম তো তোমার।কেমন ইতিহাসের গন্ধ আছে, ...</td>\n",
       "      <td>bɐ, beʃ nɐm t̪o t̪omɐɾ।kɛmon ɪt̪ɪhɐʃeɾ gɔnd̪ʱo...</td>\n",
       "    </tr>\n",
       "  </tbody>\n",
       "</table>\n",
       "</div>"
      ],
      "text/plain": [
       "   e_index                                           sentence  \\\n",
       "0       12  গৃহ নিজ কার্য সমাপল জান।।কো সখী দধি মন্থন করু ...   \n",
       "2       69  থাইল্যান্ড বা শ্যামদেশের রাজধানী।তপন এক মাস হল...   \n",
       "3       66  শিক্ষে হোক বেটার।দেব-বাড়ির ডাকাতি ও বংশীর ছেল...   \n",
       "4       30  যদি বলেন, বাড়িতে নেই!খুব হৈ-হল্লা করলে শেষ পর্...   \n",
       "5       66  বাঃ, বেশ নাম তো তোমার।কেমন ইতিহাসের গন্ধ আছে, ...   \n",
       "\n",
       "                                 clean_validated_ipa  \n",
       "0  gɾɪho nɪɟ kɐɾɟo ʃɔmɐpol ɟɐn।।ko ʃokʰɪ d̪od̪ʱɪ ...  \n",
       "2  t̪ʰɐɪ̯lɛnd bɐ ʃɛmd̪eʃeɾ ɾɐɟd̪ʱɐnɪ।t̪ɔpon ɛk mɐ...  \n",
       "3  ʃɪkkʰe hok betɐɾ।d̪eb-bɐɽɪɾ dɐkɐt̪ɪ o bɔŋʃɪɾ c...  \n",
       "4  ɟod̪ɪ bɔlen, bɐɽɪt̪e neɪ̯!kʰub ho͡ɪ̯-hollɐ koɾ...  \n",
       "5  bɐ, beʃ nɐm t̪o t̪omɐɾ।kɛmon ɪt̪ɪhɐʃeɾ gɔnd̪ʱo...  "
      ]
     },
     "execution_count": 4,
     "metadata": {},
     "output_type": "execute_result"
    }
   ],
   "source": [
    "df = pd.read_csv(\"100k_removed_num_and_bangla.csv\")\n",
    "df.head()\n",
    "# remove duplicate rows\n",
    "df = df.drop_duplicates(subset=['sentence'])\n",
    "df.head()"
   ]
  },
  {
   "cell_type": "code",
   "execution_count": 7,
   "metadata": {},
   "outputs": [],
   "source": [
    "# char_list_dependent=['̯', 'ʰ', 'ʱ', 'ʰ', '̪', '̪', '̃', '̪', 'ʰ',\"ʲ\",'ʰ', 'ʱ', 'ʲ', 'ʷ', 'ː', '̃', '̆', '̑', '̪', '̯', '͡',]\n",
    "char_list_unique_all=['F', 'a', 'b', 'c', 'd', 'e', 'f', 'g', 'h', 'i', 'j', 'k', 'l', 'm', 'n', 'o', 'p', 'r', 's', 't', 'u', 'v', 'z', 'ø', 'ŋ', 'ɐ', 'ɔ', 'ɛ', 'ɟ', 'ɡ', 'ɦ', 'ɪ', 'ɽ', 'ɾ', 'ʃ', 'ʰ', 'ʱ', 'ʲ', 'ʷ', 'ː', '̃', '̆', '̑', '̪', '̯', '͡']\n",
    "\n",
    "char_list_unique=['F','a', 'b', 'c', 'd', 'e', 'f', 'g', 'h', 'i', 'j', 'k', 'l', 'm', 'n', 'o', 'p', 'r', 's', 't', 'u', 'v', 'z', 'ø', 'ŋ', 'ɐ', 'ɔ', 'ɛ', 'ɟ', 'ɡ', 'ɦ', 'ɪ', 'ɽ', 'ɾ', 'ʃ', 'ʰ', 'ʱ', 'ʲ', 'ʷ', 'ː', '̃', '̆', '̑', '̪', '̯', '͡',]\n",
    "\n",
    "dependent_ipa_list=[\"ʰ\",\"̃\",\"ʱ\",\"\",\"̯\",\"̪\",\"̱\",\"̊\",\"̚\",\"̈\",\"̥\",\"̬\",\"̤\",\"̰\",\"̼\",\"̹\",\"̜\",\"̟\",\"̠\",\"̽\",\"̩\",\"̯\",\"̮\",\"̪\",\"̤\",\"̞\",\"̝\",\"̘\",\"̙\",\"̆\",\"̑\",\"̊\",\"̌\",\"\"]\n",
    "\n",
    "ipa_vowels=['a', 'e', 'i', 'o', 'u', 'ɐ', 'ɔ', 'ɛ', 'ɪ']\n",
    "ipa_dependent=['̃', 'ː', '̯', '̑', 'ʰ', 'ʱ', '̪', 'ʷ', '͡', 'ʲ', '̆']\n",
    "ipa_short_vowels=['ɪ', 'ɛ', 'æ', 'ɑ', 'ɔ', 'ʊ', 'ʌ', 'ə']\n",
    "ipa_extra=['õ']\n",
    "\n",
    "ipa_consonants=['b', 'c', 'd', 'f', 'g', 'h', 'j', 'k', 'l', 'm', 'n', 'p', 'r', 's', 't', 'v', 'z', 'ŋ', 'ɟ', 'ɡ', 'ɦ', 'ɽ', 'ɾ', 'ʃ']\n",
    "# ipa_consonants=['b', 'c', 'd', 'f', 'g', 'h', 'j', 'k', 'l', 'm', 'n', 'p', 'r', 's', 't', 'v', 'z', 'ø', 'ŋ', 'ɟ', 'ɡ', 'ɦ', 'ɽ', 'ɾ', 'ʃ', 'ʰ', 'ʱ', 'ʲ', 'ʷ']\n"
   ]
  },
  {
   "cell_type": "code",
   "execution_count": 8,
   "metadata": {},
   "outputs": [],
   "source": [
    "\n",
    "for row in df.itertuples():\n",
    "  if type(row.clean_validated_ipa)==float:\n",
    "    continue\n",
    "  for ch in row.clean_validated_ipa:\n",
    "    if ch not in char_list_unique_all:\n",
    "      char_list_unique_all.append(ch)\n",
    "\n",
    "print(char_list_unique_all)"
   ]
  },
  {
   "cell_type": "code",
   "execution_count": 10,
   "metadata": {},
   "outputs": [
    {
     "name": "stdout",
     "output_type": "stream",
     "text": [
      "[' ', '!', '%', \"'\", '(', ')', '*', ',', '-', '.', '/', ':', ';', '<', '=', '>', '?', 'A', 'B', 'C', 'D', 'E', 'F', 'G', 'H', 'I', 'J', 'K', 'L', 'M', 'N', 'O', 'P', 'Q', 'R', 'S', 'T', 'U', 'V', 'W', 'Y', '[', ']', '_', '`', 'a', 'b', 'c', 'd', 'e', 'f', 'g', 'h', 'i', 'j', 'k', 'l', 'm', 'n', 'o', 'p', 'r', 's', 't', 'u', 'v', 'w', 'x', 'y', 'z', '|', '~', '\\xa0', '\\xad', '·', 'ø', 'ŋ', 'ɐ', 'ɔ', 'ɛ', 'ɟ', 'ɡ', 'ɦ', 'ɪ', 'ɽ', 'ɾ', 'ʃ', 'ʰ', 'ʱ', 'ʲ', 'ʷ', 'ː', '̃', '̆', '̑', '̪', '̯', '͡', 'ا', 'ث', 'خ', 'د', 'ر', 'س', 'ص', 'ع', 'ق', 'ل', 'ه', 'ي', '।', '॥', '৷', '\\u200c', '–', '—', '‖', '‘', '’', '“', '”', '•', '…', '\\ufeff']\n"
     ]
    }
   ],
   "source": [
    "  \n",
    "char_list_unique_all.sort()\n",
    "print(char_list_unique_all)"
   ]
  },
  {
   "cell_type": "code",
   "execution_count": 25,
   "metadata": {},
   "outputs": [
    {
     "name": "stdout",
     "output_type": "stream",
     "text": [
      "ɔ\n",
      "ʃ\n",
      "ɔ\n",
      "h\n",
      "ɐ\n",
      "ʲ\n",
      "o\n",
      "t\n",
      "̪\n",
      "t\n",
      "̪\n",
      "o\n"
     ]
    }
   ],
   "source": [
    "test=\"ɔʃɔhɐʲot̪t̪o\"\n",
    "for ch in test:\n",
    "  print(ch)"
   ]
  },
  {
   "cell_type": "code",
   "execution_count": 12,
   "metadata": {},
   "outputs": [
    {
     "name": "stdout",
     "output_type": "stream",
     "text": [
      "['u', '̯', 'g', 'ʰ', 'b', 'ʱ', 'ɽ', 'ʰ', 't', '̪', 't', '̪', 'o', '̃', 'd', '̪', 'ʰ']\n"
     ]
    }
   ],
   "source": [
    "dependent_ipa=\"u̯gʰbʱɽʰt̪t̪õd̪ʰ\"\n",
    "list_of_char=[]\n",
    "for ch in dependent_ipa:\n",
    "\n",
    "  list_of_char.append(ch)\n",
    "\n",
    "print(list_of_char)\n"
   ]
  },
  {
   "cell_type": "code",
   "execution_count": 13,
   "metadata": {},
   "outputs": [
    {
     "name": "stdout",
     "output_type": "stream",
     "text": [
      "['u', '̯', 'g', 'ʰ', 'b', 'ʱ', 'ɽ', 'ʰ', 't', '̪', 't', '̪', 'o', '̃', '̪', 'ʰ']\n"
     ]
    }
   ],
   "source": [
    "list_of_char.remove(\"d\")\n",
    "print(list_of_char)"
   ]
  }
 ],
 "metadata": {
  "kernelspec": {
   "display_name": "base",
   "language": "python",
   "name": "python3"
  },
  "language_info": {
   "codemirror_mode": {
    "name": "ipython",
    "version": 3
   },
   "file_extension": ".py",
   "mimetype": "text/x-python",
   "name": "python",
   "nbconvert_exporter": "python",
   "pygments_lexer": "ipython3",
   "version": "3.11.4"
  }
 },
 "nbformat": 4,
 "nbformat_minor": 2
}
