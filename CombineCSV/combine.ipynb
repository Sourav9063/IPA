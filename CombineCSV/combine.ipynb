{
 "cells": [
  {
   "cell_type": "code",
   "execution_count": 10,
   "metadata": {},
   "outputs": [
    {
     "name": "stdout",
     "output_type": "stream",
     "text": [
      "9\n"
     ]
    }
   ],
   "source": [
    "import pandas as pd\n",
    "import glob\n",
    "\n",
    "df=pd.read_csv(\"combined.csv\")\n",
    "# read all csv files in the folder using glob and pandas in a lambda function\n",
    "dfs=[pd.read_csv(f) for f in glob.glob(\"*.csv\")]\n",
    "print(len(dfs))\n",
    "subset=df.iloc[0:26750]\n",
    "for row in subset.itertuples():\n",
    "  if pd.isna(row.ipa):\n",
    "    print(row.Index/10)\n",
    "    for other in dfs:\n",
    "      if pd.notna(other.at[row.Index,\"ipa\"]):\n",
    "        df.at[row.Index,\"ipa\"]=other.at[row.Index,\"ipa\"]\n",
    "        break\n",
    "df.to_csv(\"combined.csv\",index=False)"
   ]
  }
 ],
 "metadata": {
  "kernelspec": {
   "display_name": "base",
   "language": "python",
   "name": "python3"
  },
  "language_info": {
   "codemirror_mode": {
    "name": "ipython",
    "version": 3
   },
   "file_extension": ".py",
   "mimetype": "text/x-python",
   "name": "python",
   "nbconvert_exporter": "python",
   "pygments_lexer": "ipython3",
   "version": "3.11.4"
  },
  "orig_nbformat": 4
 },
 "nbformat": 4,
 "nbformat_minor": 2
}
