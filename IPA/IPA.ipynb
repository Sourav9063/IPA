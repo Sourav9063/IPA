{
  "cells": [
    {
      "cell_type": "code",
      "execution_count": 1,
      "metadata": {
        "id": "QzuiRBsmzy_o"
      },
      "outputs": [],
      "source": [
        "import pandas as pd\n",
        "import requests\n",
        "import warnings\n",
        "import time\n",
        "import multiprocessing\n",
        "import threading\n",
        "from concurrent.futures import ThreadPoolExecutor\n",
        "# from google.colab import files\n",
        "warnings.filterwarnings('ignore', message='Unverified HTTPS request')"
      ]
    },
    {
      "cell_type": "code",
      "execution_count": 2,
      "metadata": {
        "colab": {
          "base_uri": "https://localhost:8080/",
          "height": 55
        },
        "id": "rwIdMykezyXq",
        "outputId": "c912b518-dc54-4daf-b94a-8ac46fc6b09d"
      },
      "outputs": [],
      "source": [
        "# uploaded = files.upload()\n",
        "# df = pd.read_csv(io.BytesIO(uploaded[list(uploaded.keys())[0]]))\n",
        "df = pd.read_csv('only_sentence_with_punc.csv')"
      ]
    },
    {
      "cell_type": "code",
      "execution_count": 3,
      "metadata": {
        "id": "lJBonx1HY2OV"
      },
      "outputs": [],
      "source": [
        "def subset_worker_words(subset):\n",
        "  print(subset)\n",
        "  for row in subset.itertuples():\n",
        "    print(f\"Started {row.Index}\")\n",
        "    if pd.notna(row.ipa):\n",
        "      print(f\"{row.Index}:{row.ipa}\")\n",
        "      continue\n",
        "    words=row.sentence.split(\" \")\n",
        "    if(len(words)>1):\n",
        "      datas=\"\"\n",
        "      for word in words:\n",
        "        # url= f\"http://ipa.bangla.gov.bd/post_text_bangla_ipa?bangla_ipa={word}\"\n",
        "        url= f\"http://127.0.0.1:5000//post_text_bangla_ipa?bangla_ipa={word}\"\n",
        "        response=None\n",
        "        try:\n",
        "          response = requests.get (url, verify=False)\n",
        "          if response and response.status_code == 200:\n",
        "            data= response.json()\n",
        "            datas=datas+\" \"+data[\"data\"][0]\n",
        "          else:\n",
        "            datas=datas+\" \"+\"ERROR\"\n",
        "        except:\n",
        "          print(f\"error at{row.Index}:{row.sentence}\")\n",
        "          datas=datas+\" \"+\"ERROR\"\n",
        "      print(f\"Ended {row.Index}\")\n",
        "      df.at[row.Index,\"ipa\"]=datas\n",
        "    else:\n",
        "      url = f\"http://ipa.bangla.gov.bd/post_text_bangla_ipa?bangla_ipa={row.sentence}\"\n",
        "      response=None\n",
        "      try:\n",
        "        response = requests.get (url, verify=False)\n",
        "        if response and response.status_code == 200:\n",
        "          data= response.json()\n",
        "          df.at[row.Index,\"ipa\"]=data[\"data\"][0]\n",
        "          print(f\"Ended {row.Index}:{row.sentence}\")\n",
        "          print(f\"{row.Index}:{data['data'][0]}\")\n",
        "        else:\n",
        "          data= None\n",
        "      except:\n",
        "        print(f\"error at{row.Index}:{row.sentence}\")\n",
        "  # df.to_csv(\"withIPA.csv\",index=False)\n",
        "  print(\"Done\")\n",
        "  return"
      ]
    },
    {
      "cell_type": "code",
      "execution_count": 4,
      "metadata": {
        "id": "i7opiEwxBa4q"
      },
      "outputs": [],
      "source": [
        "def subset_worker(subset):\n",
        "  print(subset)\n",
        "  for row in subset.itertuples():\n",
        "    print(f\"Started{row.Index}\")\n",
        "    if pd.notna(row.ipa):\n",
        "      print(f\"{row.Index}:{row.ipa}\")\n",
        "      continue\n",
        "    url = f\"http://127.0.0.1:5000//post_text_bangla_ipa?bangla_ipa={row.sentence}\"\n",
        "    response=None\n",
        "    try:\n",
        "      response = requests.get (url, verify=False)\n",
        "      if response and response.status_code == 200:\n",
        "        data= response.json()\n",
        "        df.at[row.Index,\"ipa\"]=data[\"data\"][0]\n",
        "      else:\n",
        "        data= None\n",
        "    except:\n",
        "      print(f\"error at{row.Index}:{row.sentence}\")\n",
        "    print(f\"Ended {row.Index}\")\n",
        "    # print(f\"{row.Index}:{row.ipa}\")\n",
        "  # df.to_csv(\"withIPA.csv\",index=False)\n",
        "  print(\"Done\")\n",
        "  return"
      ]
    },
    {
      "cell_type": "code",
      "execution_count": 10,
      "metadata": {},
      "outputs": [],
      "source": [
        "def subset_worker_db(subset):\n",
        "  for row in subset.itertuples():\n",
        "    data=call_api(row.word)\n",
        "    if data:\n",
        "      print(f\"{row.Index}:{data['data'][0]}\")\n",
        "    else:\n",
        "      print(row.Index)\n",
        "      print(row.word)\n",
        "      break"
      ]
    },
    {
      "cell_type": "code",
      "execution_count": 4,
      "metadata": {
        "id": "sBDYF4RW2-SF"
      },
      "outputs": [
        {
          "name": "stdout",
          "output_type": "stream",
          "text": [
            "[    e_index                                           sentence  ipa\n",
            "0         0  ৯নব্যভারত (ষোড়শ খণ্ড, বৈশাখ-চৈত্র, ১৩০৫), ২৮০...  NaN\n",
            "1         0  তবে ১৮৭২ খ্রিস্টাব্দে বঙ্গদর্শন-এর প্রকাশ এই ধ...  NaN\n",
            "2         0  বস্তুত বাগ্মিতায় অক্ষয়কুমারের ছিল জন্মগত অধি...  NaN\n",
            "3         0  ভারতীয় শিল্পের কথা নামক পুস্তকে ইতিপূর্বে শিল...  NaN\n",
            "4         0  অন্যান্য বিষয়ের সঙ্গে এ পত্রিকায় ঐতিহাসিক প্...  NaN\n",
            "..      ...                                                ...  ...\n",
            "95        8     কিন্তু সেফালিকার ফুল অপেক্ষা বৃন্তের গুণ অধিক।  NaN\n",
            "96        8  কাঁঠাল কাষ্ঠের সারভাবা জলে ভিজাইয়া কাথ বাহির ...  NaN\n",
            "97        8  ভারতবর্ষ ভিন্ন ইংরাজাধিকৃত রাজ্যের অন্য কোনো স...  NaN\n",
            "98        8  বৃক্ষোৎপন্ন লাক্ষা গুঁড়া-করিয়া জল ঢালিয়া তা...  NaN\n",
            "99        8  কৰ্তব্য শেষ করিয়া আত্মপ্রসাদ লাভ করিবার উপায়...  NaN\n",
            "\n",
            "[100 rows x 3 columns],      e_index                                           sentence  ipa\n",
            "100        8  রং বাহির করিয়া লইলে যে শিটি বা ছিবড়ে পরিত্যক...  NaN\n",
            "101        8  বিশুদ্ধ লাক্ষায় যে সকল আলতা প্রস্তুত হইত তাহা...  NaN\n",
            "102        8  বিলাতি রাসায়নিক প্রক্রিয়ায় সহস্র সহস্র ফিকে...  NaN\n",
            "103        8  কিন্তু লটকনের রং ক্রমে কাচিতে কাচিতে ফিকা হইয়...  NaN\n",
            "104        8  কারণ তদ্বারা টানা ও ভর্ণার সাহায্যে অনেকগুলি ম...  NaN\n",
            "..       ...                                                ...  ...\n",
            "195        5  তাম্রপটে “সমুপগত” শব্দই উৎকীর্ণ রহিয়াছে; তাহা...  NaN\n",
            "196        5  বাঙ্গালা শব্দ ও পদবিন্যাসকৌশলের মধ্যে তাহার কি...  NaN\n",
            "197        5  ডাক্তার হরনলি বলেন, বিজয় সেনই গৌড়ের পালনরপাল...  NaN\n",
            "198        5  তৎকালে পরাক্রমশালী সামন্তগণ আপন আপন সামন্ত-চক্...  NaN\n",
            "199        6  উপযুক্ত প্রতিশব্দের অভাবে, আমরা ব্যাকরণকে গ্রা...  NaN\n",
            "\n",
            "[100 rows x 3 columns],      e_index                                           sentence  ipa\n",
            "200        6  অতএব অলমতি বিস্তরেণ।১ সঙ্করোহখানবস্থিতি : সঙ্ক...  NaN\n",
            "201        6        নববিধান সেই বিশিষ্টতার অনুসরণ করিতে অসম্মত।  NaN\n",
            "202        6        অধ্যয়ন ভিন্ন তাহার সমালোচনা চলিতে পারে না।  NaN\n",
            "203        6  সেরূপ নামকরণ করিতে হইলে, বলিতে হয়, তাহার যথায...  NaN\n",
            "204        6  সাদৃশ্য-করণ কাহাকে বলে, তাহা বুঝাইবার জন্য শিল...  NaN\n",
            "..       ...                                                ...  ...\n",
            "295       14  চার পান মুখে পুরে প্রায় দৌড়েই বেরিয়ে গেলেন ...  NaN\n",
            "296       14  বুকে পিঠে হাত বুলিয়ে দিতে দিতে মা ঝিমিয়ে ঘুম...  NaN\n",
            "297       14     বিয়ে হয়ে গেলে কাশী যাবেন, সঙ্কল্পও সম্ভব হল।  NaN\n",
            "298       14  সন্ধ্যায় টানটা ফের পড়লে অমর বালিশের তলা থেকে...  NaN\n",
            "299       14  বললেন—বেশ, তবে কি জান, ইতিমধ্যে একজন বহাল হয়ে...  NaN\n",
            "\n",
            "[100 rows x 3 columns],      e_index                                           sentence  ipa\n",
            "300       14               যা পাও, তাই হাত বাড়িয়ে তুলে নিয়ো।  NaN\n",
            "301       15   দেখলো ধানের আঁটির সঙ্গে কাচি সে ফেলে এসেছে মাঠে।  NaN\n",
            "302       15           সে জল বড় ঘোলা। লেগেছে কাদা মাটির ময়লা।  NaN\n",
            "303       15          এক কাপড়ে কাঁদতে কাঁদতে চলে গেলো নুরবানু।  NaN\n",
            "304       15  কেন পর-পুরুষের সঙ্গে জাপটাজাপটি শুরু করে দিয়ে...  NaN\n",
            "..       ...                                                ...  ...\n",
            "395       22                  একখানা করে সবাইকার বের করতেই হবে।  NaN\n",
            "396       22          চাবুক মেরো না যেন কখনও, তাহলে বিগড়ে যাবে।  NaN\n",
            "397       22  মনে হত, শুধু শারীরিক অর্থেই যেন এ ক্লান্তির ব্...  NaN\n",
            "398       22  এবারে প্রেমেনের কমলা কেবিনটা ফিরিয়ে পেলে হয়তো ...  NaN\n",
            "399       22  কুড়োতে-কুড়োতে দু একটা মুখেই দিয়ে ফেলে আর সব জড়...  NaN\n",
            "\n",
            "[100 rows x 3 columns],      e_index                                           sentence  ipa\n",
            "400       23            অথচ এক বিন্দু অভিযোগ নেই, অবাধ্যতা নেই।  NaN\n",
            "401       23            নৃপেন তো মাঝে মাঝে আলোয়ান পরেই চলে আসত।  NaN\n",
            "402       23  আমার মত লোকের বই ছাপানো যে কত দূর অন্যায় হয়েছে...  NaN\n",
            "403       23  ব্যবহারে প্রীতির প্রলেপ, সৌজন্যের স্নিগ্ধতা—এক...  NaN\n",
            "404       23    কোনো স্কুলের Librarian-মত হতে পারলে মন্দ হয় না।  NaN\n",
            "..       ...                                                ...  ...\n",
            "495       30  চুলে চিরুনি নেই, জামায় বোতাম নেই, বেশবাসে বিন্...  NaN\n",
            "496       30  আগে এখন ঢাকার দল তো আসুক।তার আগে দুজন আসে ফরিদ...  NaN\n",
            "497       30  ডান হাতে কলম ও বাঁ হাতে সটকা নিয়ে শরৎচন্দ্র নত...  NaN\n",
            "498       30  এক জসীম উদ্দীন, আর হুমায়ুন কবির।একেবারে সাদামা...  NaN\n",
            "499       30  কিন্তু সমস্ত উচ্চের চেয়েও যে উচ্চ, একদা তারই ড...  NaN\n",
            "\n",
            "[100 rows x 3 columns],      e_index                                           sentence  ipa\n",
            "500       30            তাই একদিন যামিনী রায়ের ডাক পড়ল কল্লোলে।  NaN\n",
            "501       30  কোন জাদুকরের হাত পড়ল—চকিতে শ্রীমন্ত হয়ে উঠল ঘর...  NaN\n",
            "502       30    তমোঘ্ন বুদ্ধির তীক্ষ্ণতায় দুই চক্ষু দূরান্বেষী।  NaN\n",
            "503       30  অমনি স্বর্ণস্বপ্নময়।পূর্বতনদের মধ্যে থেকে হঠাৎ...  NaN\n",
            "504       30  এক দিকে রুক্ষ-শুষ্ক শহরে কৃত্রিমতা, অন্যদিকে অ...  NaN\n",
            "..       ...                                                ...  ...\n",
            "595       37                ভিড়ের মধ্যে থেকেও সে অসঙ্গ, অবিকৃত।  NaN\n",
            "596       37   পত্রের চেয়েও স্পর্শটাই বেশি স্বাদু, বেশি স্বাগত।  NaN\n",
            "597       37           শনিবারের চিঠি এ বিষয়ে অত্যন্ত বুদ্ধিমান।  NaN\n",
            "598       37  ধৈর্যই সব চেয়ে বড় প্রার্থনা।তাছাড়া, এমনিতেও মহ...  NaN\n",
            "599       37  ট্রামে-সে রাস্তা-ঘাটে যেখানেই দেখা হোক, কার কী...  NaN\n",
            "\n",
            "[100 rows x 3 columns],      e_index                                           sentence  ipa\n",
            "600       37  এই অর্থে যে, তিনি তদানীন্তন তারুণ্যের সমর্থক ছ...  NaN\n",
            "601       37       পেয়েছি সেই হৃদয়ের উষ্ণতা, সেই নিবিড় ঐক্যবোধ।  NaN\n",
            "602       37  দাও শুধু ভদ্র পরিবেশে পরিমিত উপার্জন, যাতে স্ব...  NaN\n",
            "603       37  শত চীৎকারেও ক্যারাভেন থামেনি কোনোদিন।বর্ধমানের...  NaN\n",
            "604       37  অন্নদাশঙ্করের সেই হস্তলিপি জীবনের পত্রে জীবনদে...  NaN\n",
            "..       ...                                                ...  ...\n",
            "695       44  আমাদের উপন্যাসের নায়কের মাথাটাকে যে ভাগ্যের পা...  NaN\n",
            "696       44  ( দৃপ্ত-স্বরে) ভাঙুক! এই ঠুনকো মন নিয়ে আমি বাঁ...  NaN\n",
            "697       44                     তাতে শুধু আয়ুরই বৃথা অপচয় ঘটে।  NaN\n",
            "698       44  আমি জীবনে যে ভুল করে বসেছি, তার থেকে পরিত্রাণ ...  NaN\n",
            "699       45  কাকা কলিকাতায় দালালি করেন, অবস্থা মোটেই স্বচ্ছ...  NaN\n",
            "\n",
            "[100 rows x 3 columns],      e_index                                           sentence  ipa\n",
            "700       45                আমার রুচির সঙ্গে ওর মিল নেই।প্রদীপ।  NaN\n",
            "701       45  প্রদীপ যে এই বাড়িতে একজন আগন্তুক অতিথিমাত্র, ত...  NaN\n",
            "702       45  কিম্বা, কল্পনা করা যাক, সুধী ও নমিতা বোটানিক্য...  NaN\n",
            "703       45  তাই প্রকাশ্যে আমি আমার এই ঔদাসীন্যের পরিচয় দিত...  NaN\n",
            "704       45  আর, আমারই জন্যে যেন কাশ্মীরের সিংহাসন খালি পড়ে...  NaN\n",
            "..       ...                                                ...  ...\n",
            "795       53  এইবার পকেট হাতড়াইয়া দেশাই বাহির করিয়া তাড়াতাড়ি...  NaN\n",
            "796       53           প্রথম দেখা কবে হয়েছিল মনে আছে?”—“আছে না?  NaN\n",
            "797       53  কেউ তাড়া করেছিল না কি?”ম্লান একটু হাসিয়া অজয় ক...  NaN\n",
            "798       53  নমিতার সন্ধান পেলুম, ঐটা আমার একটা সম্পত্তি, অজয়।  NaN\n",
            "799       53                        মেয়ে! আর আমাকে বলতে হবে না।  NaN\n",
            "\n",
            "[100 rows x 3 columns],      e_index                                           sentence  ipa\n",
            "800       53  ঝড়ে আমি বিশ্বাস করি না, তার চেয়ে একটি স্থির-প্...  NaN\n",
            "801       53  মনে হ’ল এর আগে রাস্তায় একদিন যেন তোমাকে আমি দে...  NaN\n",
            "802       54  নমিতাকে যদি না ভুলি ত’ তার ঠিকানাটাও ভুলব না।”...  NaN\n",
            "803       54  সে আর স্থির হইয়া বসিতে পারিল না, হটিতে সুরু কর...  NaN\n",
            "804       54  স্থাণ্ডে দুইটার মধ্যে পা দুইটা ঢুকাইয়া তাড়াতাড়...  NaN\n",
            "..       ...                                                ...  ...\n",
            "895       61    সবাই উঠিয়া দাঁড়াইল—উদ্বেল জনকোলাহল স্তব্ধ হইয়া।  NaN\n",
            "896       62  তা, বন্ধু যদি সারা রাতে না আসে, তবে আমার আর কী...  NaN\n",
            "897       62  প্রদীপ কহিল, “আমারই সঙ্গে এলে যে বড়?”নমিতার মু...  NaN\n",
            "898       62  কাছে আসিতেই সে বুঝি প্রদীপের হাত ধরিতে গিয়া নম...  NaN\n",
            "899       62  কাজ নেই উমা, ফুলহাটিতে ফলস্ দাঁত কিনতে পাব না।...  NaN\n",
            "\n",
            "[100 rows x 3 columns],      e_index                                           sentence  ipa\n",
            "900       62  কত কাজ বাকি, কত পথ এখনো উত্তীর্ণ হতে হবে—আমি চ...  NaN\n",
            "901       62                 শাড়ি ব্লাউজ জুতো গয়না—যা ওর পছন্দ।  NaN\n",
            "902       62  খালি মনে হচ্ছিল তোমার কাছ থেকে ভালো করে বিদায় ...  NaN\n",
            "903       62  কহিল,—“তোমাকে আরেকবার ভারি দেখতে ইচ্ছা করছিলো,...  NaN\n",
            "904       62  কিন্তু আপনার যে জ্বর!”অজয় বাধা দিয়া কহিল,—“হোক...  NaN\n",
            "..       ...                                                ...  ...\n",
            "995       69  থাইল্যান্ড বা শ্যামদেশের রাজধানী।তপন এক মাস হল...  NaN\n",
            "996       70  গ্রামের লোক তখন ধান পোঁতা শুরু করে।তারপর এক জা...  NaN\n",
            "997       70  আগে আমার অর্ডারটা সাপ্লাই করে তারপর আমার বন্ধু...  NaN\n",
            "998       70                 আর সঙ্গে সেইরকম আলুর চপ চলবে নাকি?  NaN\n",
            "999       70            সঙ্গে জুতসই আড্ডার পাট তো ভাই উঠে গেছে।  NaN\n",
            "\n",
            "[100 rows x 3 columns]]\n",
            "    e_index                                           sentence  ipa\n",
            "0         0  ৯নব্যভারত (ষোড়শ খণ্ড, বৈশাখ-চৈত্র, ১৩০৫), ২৮০...  NaN\n",
            "1         0  তবে ১৮৭২ খ্রিস্টাব্দে বঙ্গদর্শন-এর প্রকাশ এই ধ...  NaN\n",
            "2         0  বস্তুত বাগ্মিতায় অক্ষয়কুমারের ছিল জন্মগত অধি...  NaN\n",
            "3         0  ভারতীয় শিল্পের কথা নামক পুস্তকে ইতিপূর্বে শিল...  NaN\n",
            "4         0  অন্যান্য বিষয়ের সঙ্গে এ পত্রিকায় ঐতিহাসিক প্...  NaN\n",
            "..      ...                                                ...  ...\n",
            "95        8     কিন্তু সেফালিকার ফুল অপেক্ষা বৃন্তের গুণ অধিক।  NaN\n",
            "96        8  কাঁঠাল কাষ্ঠের সারভাবা জলে ভিজাইয়া কাথ বাহির ...  NaN\n",
            "97        8  ভারতবর্ষ ভিন্ন ইংরাজাধিকৃত রাজ্যের অন্য কোনো স...  NaN\n",
            "98        8  বৃক্ষোৎপন্ন লাক্ষা গুঁড়া-করিয়া জল ঢালিয়া তা...  NaN\n",
            "99        8  কৰ্তব্য শেষ করিয়া আত্মপ্রসাদ লাভ করিবার উপায়...  NaN\n",
            "\n",
            "[100 rows x 3 columns]\n",
            "Started 0\n",
            "     e_index                                           sentence  ipa\n",
            "100        8  রং বাহির করিয়া লইলে যে শিটি বা ছিবড়ে পরিত্যক...  NaN\n",
            "101        8  বিশুদ্ধ লাক্ষায় যে সকল আলতা প্রস্তুত হইত তাহা...  NaN\n",
            "102        8  বিলাতি রাসায়নিক প্রক্রিয়ায় সহস্র সহস্র ফিকে...  NaN\n",
            "103        8  কিন্তু লটকনের রং ক্রমে কাচিতে কাচিতে ফিকা হইয়...  NaN\n",
            "104        8  কারণ তদ্বারা টানা ও ভর্ণার সাহায্যে অনেকগুলি ম...  NaN\n",
            "..       ...                                                ...  ...\n",
            "195        5  তাম্রপটে “সমুপগত” শব্দই উৎকীর্ণ রহিয়াছে; তাহা...  NaN\n",
            "196        5  বাঙ্গালা শব্দ ও পদবিন্যাসকৌশলের মধ্যে তাহার কি...  NaN\n",
            "197        5  ডাক্তার হরনলি বলেন, বিজয় সেনই গৌড়ের পালনরপাল...  NaN\n",
            "198        5  তৎকালে পরাক্রমশালী সামন্তগণ আপন আপন সামন্ত-চক্...  NaN\n",
            "199        6  উপযুক্ত প্রতিশব্দের অভাবে, আমরা ব্যাকরণকে গ্রা...  NaN\n",
            "\n",
            "[100 rows x 3 columns]\n",
            "Started 100\n",
            "     e_index                                           sentence  ipa\n",
            "200        6  অতএব অলমতি বিস্তরেণ।১ সঙ্করোহখানবস্থিতি : সঙ্ক...  NaN\n",
            "201        6        নববিধান সেই বিশিষ্টতার অনুসরণ করিতে অসম্মত।  NaN\n",
            "202        6        অধ্যয়ন ভিন্ন তাহার সমালোচনা চলিতে পারে না।  NaN\n",
            "203        6  সেরূপ নামকরণ করিতে হইলে, বলিতে হয়, তাহার যথায...  NaN\n",
            "204        6  সাদৃশ্য-করণ কাহাকে বলে, তাহা বুঝাইবার জন্য শিল...  NaN\n",
            "..       ...                                                ...  ...\n",
            "295       14  চার পান মুখে পুরে প্রায় দৌড়েই বেরিয়ে গেলেন ...  NaN\n",
            "296       14  বুকে পিঠে হাত বুলিয়ে দিতে দিতে মা ঝিমিয়ে ঘুম...  NaN\n",
            "297       14     বিয়ে হয়ে গেলে কাশী যাবেন, সঙ্কল্পও সম্ভব হল।  NaN\n",
            "298       14  সন্ধ্যায় টানটা ফের পড়লে অমর বালিশের তলা থেকে...  NaN\n",
            "299       14  বললেন—বেশ, তবে কি জান, ইতিমধ্যে একজন বহাল হয়ে...  NaN\n",
            "\n",
            "[100 rows x 3 columns]\n",
            "Started 200\n",
            "     e_index                                           sentence  ipa\n",
            "300       14               যা পাও, তাই হাত বাড়িয়ে তুলে নিয়ো।  NaN\n",
            "301       15   দেখলো ধানের আঁটির সঙ্গে কাচি সে ফেলে এসেছে মাঠে।  NaN\n",
            "302       15           সে জল বড় ঘোলা। লেগেছে কাদা মাটির ময়লা।  NaN\n",
            "303       15          এক কাপড়ে কাঁদতে কাঁদতে চলে গেলো নুরবানু।  NaN\n",
            "304       15  কেন পর-পুরুষের সঙ্গে জাপটাজাপটি শুরু করে দিয়ে...  NaN\n",
            "..       ...                                                ...  ...\n",
            "395       22                  একখানা করে সবাইকার বের করতেই হবে।  NaN\n",
            "396       22          চাবুক মেরো না যেন কখনও, তাহলে বিগড়ে যাবে।  NaN\n",
            "397       22  মনে হত, শুধু শারীরিক অর্থেই যেন এ ক্লান্তির ব্...  NaN\n",
            "398       22  এবারে প্রেমেনের কমলা কেবিনটা ফিরিয়ে পেলে হয়তো ...  NaN\n",
            "399       22  কুড়োতে-কুড়োতে দু একটা মুখেই দিয়ে ফেলে আর সব জড়...  NaN\n",
            "\n",
            "[100 rows x 3 columns]\n",
            "Started 300\n",
            "     e_index                                           sentence  ipa\n",
            "400       23            অথচ এক বিন্দু অভিযোগ নেই, অবাধ্যতা নেই।  NaN\n",
            "401       23            নৃপেন তো মাঝে মাঝে আলোয়ান পরেই চলে আসত।  NaN\n",
            "402       23  আমার মত লোকের বই ছাপানো যে কত দূর অন্যায় হয়েছে...  NaN\n",
            "403       23  ব্যবহারে প্রীতির প্রলেপ, সৌজন্যের স্নিগ্ধতা—এক...  NaN\n",
            "404       23    কোনো স্কুলের Librarian-মত হতে পারলে মন্দ হয় না।  NaN\n",
            "..       ...                                                ...  ...\n",
            "495       30  চুলে চিরুনি নেই, জামায় বোতাম নেই, বেশবাসে বিন্...  NaN\n",
            "496       30  আগে এখন ঢাকার দল তো আসুক।তার আগে দুজন আসে ফরিদ...  NaN\n",
            "497       30  ডান হাতে কলম ও বাঁ হাতে সটকা নিয়ে শরৎচন্দ্র নত...  NaN\n",
            "498       30  এক জসীম উদ্দীন, আর হুমায়ুন কবির।একেবারে সাদামা...  NaN\n",
            "499       30  কিন্তু সমস্ত উচ্চের চেয়েও যে উচ্চ, একদা তারই ড...  NaN\n",
            "\n",
            "[100 rows x 3 columns]\n",
            "Started 400\n",
            "     e_index                                           sentence  ipa\n",
            "500       30            তাই একদিন যামিনী রায়ের ডাক পড়ল কল্লোলে।  NaN\n",
            "501       30  কোন জাদুকরের হাত পড়ল—চকিতে শ্রীমন্ত হয়ে উঠল ঘর...  NaN\n",
            "502       30    তমোঘ্ন বুদ্ধির তীক্ষ্ণতায় দুই চক্ষু দূরান্বেষী।  NaN\n",
            "503       30  অমনি স্বর্ণস্বপ্নময়।পূর্বতনদের মধ্যে থেকে হঠাৎ...  NaN\n",
            "504       30  এক দিকে রুক্ষ-শুষ্ক শহরে কৃত্রিমতা, অন্যদিকে অ...  NaN\n",
            "..       ...                                                ...  ...\n",
            "595       37                ভিড়ের মধ্যে থেকেও সে অসঙ্গ, অবিকৃত।  NaN\n",
            "596       37   পত্রের চেয়েও স্পর্শটাই বেশি স্বাদু, বেশি স্বাগত।  NaN\n",
            "597       37           শনিবারের চিঠি এ বিষয়ে অত্যন্ত বুদ্ধিমান।  NaN\n",
            "598       37  ধৈর্যই সব চেয়ে বড় প্রার্থনা।তাছাড়া, এমনিতেও মহ...  NaN\n",
            "599       37  ট্রামে-সে রাস্তা-ঘাটে যেখানেই দেখা হোক, কার কী...  NaN\n",
            "\n",
            "[100 rows x 3 columns]\n",
            "Started 500\n",
            "     e_index                                           sentence  ipa\n",
            "600       37  এই অর্থে যে, তিনি তদানীন্তন তারুণ্যের সমর্থক ছ...  NaN\n",
            "601       37       পেয়েছি সেই হৃদয়ের উষ্ণতা, সেই নিবিড় ঐক্যবোধ।  NaN\n",
            "602       37  দাও শুধু ভদ্র পরিবেশে পরিমিত উপার্জন, যাতে স্ব...  NaN\n",
            "603       37  শত চীৎকারেও ক্যারাভেন থামেনি কোনোদিন।বর্ধমানের...  NaN\n",
            "604       37  অন্নদাশঙ্করের সেই হস্তলিপি জীবনের পত্রে জীবনদে...  NaN\n",
            "..       ...                                                ...  ...\n",
            "695       44  আমাদের উপন্যাসের নায়কের মাথাটাকে যে ভাগ্যের পা...  NaN\n",
            "696       44  ( দৃপ্ত-স্বরে) ভাঙুক! এই ঠুনকো মন নিয়ে আমি বাঁ...  NaN\n",
            "697       44                     তাতে শুধু আয়ুরই বৃথা অপচয় ঘটে।  NaN\n",
            "698       44  আমি জীবনে যে ভুল করে বসেছি, তার থেকে পরিত্রাণ ...  NaN\n",
            "699       45  কাকা কলিকাতায় দালালি করেন, অবস্থা মোটেই স্বচ্ছ...  NaN\n",
            "\n",
            "[100 rows x 3 columns]\n",
            "Started 600\n",
            "     e_index                                           sentence  ipa\n",
            "700       45                আমার রুচির সঙ্গে ওর মিল নেই।প্রদীপ।  NaN\n",
            "701       45  প্রদীপ যে এই বাড়িতে একজন আগন্তুক অতিথিমাত্র, ত...  NaN\n",
            "702       45  কিম্বা, কল্পনা করা যাক, সুধী ও নমিতা বোটানিক্য...  NaN\n",
            "703       45  তাই প্রকাশ্যে আমি আমার এই ঔদাসীন্যের পরিচয় দিত...  NaN\n",
            "704       45  আর, আমারই জন্যে যেন কাশ্মীরের সিংহাসন খালি পড়ে...  NaN\n",
            "..       ...                                                ...  ...\n",
            "795       53  এইবার পকেট হাতড়াইয়া দেশাই বাহির করিয়া তাড়াতাড়ি...  NaN\n",
            "796       53           প্রথম দেখা কবে হয়েছিল মনে আছে?”—“আছে না?  NaN\n",
            "797       53  কেউ তাড়া করেছিল না কি?”ম্লান একটু হাসিয়া অজয় ক...  NaN\n",
            "798       53  নমিতার সন্ধান পেলুম, ঐটা আমার একটা সম্পত্তি, অজয়।  NaN\n",
            "799       53                        মেয়ে! আর আমাকে বলতে হবে না।  NaN\n",
            "\n",
            "[100 rows x 3 columns]\n",
            "Started 700\n",
            "     e_index                                           sentence  ipa\n",
            "800       53  ঝড়ে আমি বিশ্বাস করি না, তার চেয়ে একটি স্থির-প্...  NaN\n",
            "801       53  মনে হ’ল এর আগে রাস্তায় একদিন যেন তোমাকে আমি দে...  NaN\n",
            "802       54  নমিতাকে যদি না ভুলি ত’ তার ঠিকানাটাও ভুলব না।”...  NaN\n",
            "803       54  সে আর স্থির হইয়া বসিতে পারিল না, হটিতে সুরু কর...  NaN\n",
            "804       54  স্থাণ্ডে দুইটার মধ্যে পা দুইটা ঢুকাইয়া তাড়াতাড়...  NaN\n",
            "..       ...                                                ...  ...\n",
            "895       61    সবাই উঠিয়া দাঁড়াইল—উদ্বেল জনকোলাহল স্তব্ধ হইয়া।  NaN\n",
            "896       62  তা, বন্ধু যদি সারা রাতে না আসে, তবে আমার আর কী...  NaN\n",
            "897       62  প্রদীপ কহিল, “আমারই সঙ্গে এলে যে বড়?”নমিতার মু...  NaN\n",
            "898       62  কাছে আসিতেই সে বুঝি প্রদীপের হাত ধরিতে গিয়া নম...  NaN\n",
            "899       62  কাজ নেই উমা, ফুলহাটিতে ফলস্ দাঁত কিনতে পাব না।...  NaN\n",
            "\n",
            "[100 rows x 3 columns]\n",
            "Started 800\n",
            "     e_index                                           sentence  ipa\n",
            "900       62  কত কাজ বাকি, কত পথ এখনো উত্তীর্ণ হতে হবে—আমি চ...  NaN\n",
            "901       62                 শাড়ি ব্লাউজ জুতো গয়না—যা ওর পছন্দ।  NaN\n",
            "902       62  খালি মনে হচ্ছিল তোমার কাছ থেকে ভালো করে বিদায় ...  NaN\n",
            "903       62  কহিল,—“তোমাকে আরেকবার ভারি দেখতে ইচ্ছা করছিলো,...  NaN\n",
            "904       62  কিন্তু আপনার যে জ্বর!”অজয় বাধা দিয়া কহিল,—“হোক...  NaN\n",
            "..       ...                                                ...  ...\n",
            "995       69  থাইল্যান্ড বা শ্যামদেশের রাজধানী।তপন এক মাস হল...  NaN\n",
            "996       70  গ্রামের লোক তখন ধান পোঁতা শুরু করে।তারপর এক জা...  NaN\n",
            "997       70  আগে আমার অর্ডারটা সাপ্লাই করে তারপর আমার বন্ধু...  NaN\n",
            "998       70                 আর সঙ্গে সেইরকম আলুর চপ চলবে নাকি?  NaN\n",
            "999       70            সঙ্গে জুতসই আড্ডার পাট তো ভাই উঠে গেছে।  NaN\n",
            "\n",
            "[100 rows x 3 columns]\n",
            "Started 900\n",
            "Ended 300\n",
            "Started 301\n",
            "Ended 600\n",
            "Started 601\n",
            "Ended 100\n",
            "Started 101\n"
          ]
        }
      ],
      "source": [
        "# threadpool make sure everything is currect before running this cell\n",
        "start=0\n",
        "steps=100\n",
        "end=1000\n",
        "subsets=[]\n",
        "start_pos=start\n",
        "while start<end:\n",
        "  subsets.append(df.iloc[start:start+steps])\n",
        "  start=start+steps\n",
        "print(subsets)\n",
        "pool=ThreadPoolExecutor(len(subsets))\n",
        "ws=[]\n",
        "for subset in subsets:\n",
        "  ws.append(pool.submit(subset_worker_words, subset))\n",
        "print(pool.shutdown())\n",
        "df.to_csv(f\"only_sentence_with_punc_ipa{start_pos}_{end}.csv\",index=False)"
      ]
    },
    {
      "cell_type": "code",
      "execution_count": null,
      "metadata": {
        "id": "3wj5TZUl3iIX"
      },
      "outputs": [],
      "source": [
        "# Fills the empty ones\n",
        "subset1_1000=df.iloc[3000:6000]\n",
        "for row in subset1_1000.itertuples():\n",
        "  print(row.Index)\n",
        "  # print(row[1])\n",
        "  if pd.notna(row.ipa):\n",
        "    continue\n",
        "  print(row.sentence)\n",
        "  data=call_api(row.sentence)\n",
        "  # print(data[\"data\"][0])\n",
        "  if data:\n",
        "    df.at[row.Index,\"ipa\"]=data[\"data\"][0]\n",
        "  else:\n",
        "    print(row.Index)\n",
        "    print(row.sentence)\n",
        "    break\n",
        "df.to_csv(\"withIPA.csv\",index=False)"
      ]
    },
    {
      "cell_type": "markdown",
      "metadata": {
        "id": "HMyUnI8G18Xb"
      },
      "source": [
        "**TESTINS**\n",
        "\n",
        "---\n",
        "\n"
      ]
    },
    {
      "cell_type": "code",
      "execution_count": 3,
      "metadata": {
        "colab": {
          "base_uri": "https://localhost:8080/",
          "height": 685
        },
        "id": "qc3RwWdEvPBW",
        "outputId": "a591655f-35f6-4ef3-9ccc-4e952c20dd2b"
      },
      "outputs": [
        {
          "data": {
            "text/plain": [
              "'amar ʃonar baŋla।'"
            ]
          },
          "execution_count": 3,
          "metadata": {},
          "output_type": "execute_result"
        }
      ],
      "source": [
        "# test connection\n",
        "def call_api (param):\n",
        "    url = f\"http://127.0.0.1:5000//transcribeBanglaTextToIpa?bangla_ipa={param}\"\n",
        "    response = requests.get (url, verify=False)\n",
        "    if response.status_code == 200:\n",
        "        return response.json()\n",
        "    else:\n",
        "        return None\n",
        "data=call_api(\"আমার সোনার বাংলা।\")\n",
        "data[\"data\"][0]"
      ]
    },
    {
      "cell_type": "code",
      "execution_count": null,
      "metadata": {},
      "outputs": [],
      "source": [
        "# Fills the empty ones\n",
        "subset1_1000=df.iloc[20000:70000]\n",
        "for row in subset1_1000.itertuples():\n",
        "  # print(row.Index)\n",
        "  # print(row[1])\n",
        "  # if pd.notna(row.ipa):\n",
        "  #   continue\n",
        "  # print(row.word)\n",
        "  data=call_api(row.word)\n",
        "  # print(data[\"data\"][0])\n",
        "  if data:\n",
        "    # df.at[row.Index,\"ipa\"]=data[\"data\"][0]\n",
        "    print(f\"{row.Index}:{data['data'][0]}\")\n",
        "  else:\n",
        "    print(row.Index)\n",
        "    print(row.word)\n",
        "    break\n",
        "# df.to_csv(\"withIPA.csv\",index=False)"
      ]
    },
    {
      "cell_type": "code",
      "execution_count": null,
      "metadata": {
        "colab": {
          "base_uri": "https://localhost:8080/"
        },
        "id": "g3vktnAu0YJD",
        "outputId": "a612773f-d397-478d-9ba0-37709c0ed249"
      },
      "outputs": [],
      "source": [
        "multiprocessing.cpu_count()"
      ]
    },
    {
      "cell_type": "code",
      "execution_count": 43,
      "metadata": {
        "id": "CEcFhqjLISAe"
      },
      "outputs": [
        {
          "name": "stdout",
          "output_type": "stream",
          "text": [
            "None\n"
          ]
        }
      ],
      "source": [
        "print(pool.shutdown( cancel_futures=True))\n",
        "df.to_csv(f\"withIPA{start_pos}_{end}.csv\",index=False)"
      ]
    },
    {
      "cell_type": "code",
      "execution_count": null,
      "metadata": {
        "colab": {
          "base_uri": "https://localhost:8080/"
        },
        "id": "TQLfyQVTgV09",
        "outputId": "2c755c70-1738-430d-b318-e31e099b0ba9"
      },
      "outputs": [],
      "source": [
        "\n",
        "# w0= pool.submit(subset_worker, subsets[0])\n",
        "# w1=pool.submit(subset_worker, subsets[1])\n",
        "# w2=pool.submit(subset_worker, subsets[2])\n",
        "# w3=pool.submit(subset_worker, subsets[3])\n",
        "# w4=pool.submit(subset_worker, subsets[4])\n",
        "# w0.result()\n",
        "# w1.result()\n",
        "# w2.result()\n",
        "# w3.result()\n",
        "# w4.result()\n",
        "\n",
        "# print(w0.cancel())\n",
        "# print(w1.cancel())\n",
        "# print(w2.cancel())\n",
        "# print(w3.cancel())\n",
        "# print(w4.cancel())\n"
      ]
    },
    {
      "cell_type": "code",
      "execution_count": null,
      "metadata": {
        "id": "g7GZigPgFZux"
      },
      "outputs": [],
      "source": [
        "# not working\n",
        "i=500\n",
        "steps=100\n",
        "end=1000\n",
        "subsets=[]\n",
        "while i<end:\n",
        "  subsets.append(df.iloc[i:i+steps])\n",
        "  i=i+steps\n",
        "print(subsets)\n",
        "\n",
        "threads=[]\n",
        "for subset in subsets:\n",
        "  threads.append(threading.Thread(target=subset_worker, daemon=True, args=(subset,)))\n",
        "for thread in threads:\n",
        "  thread.start();\n",
        "  time.sleep(1)\n",
        "for thread in threads:\n",
        "  thread.join()\n",
        "print(\"end\")"
      ]
    },
    {
      "cell_type": "markdown",
      "metadata": {},
      "source": [
        "Cleaning"
      ]
    },
    {
      "cell_type": "code",
      "execution_count": 97,
      "metadata": {},
      "outputs": [
        {
          "name": "stdout",
          "output_type": "stream",
          "text": [
            "58569\n"
          ]
        }
      ],
      "source": [
        "# Unique word clearing\n",
        "df=pd.read_csv(\"bangla_to_ipa_unique_clean2.csv\")\n",
        "df.drop_duplicates(subset=['bangla_token'], inplace=True)\n",
        "print(len(df))\n",
        "df.sort_values('bangla_token').to_csv(\"bangla_to_ipa_unique_clean.csv\",index=False)\n",
        "\n"
      ]
    },
    {
      "cell_type": "code",
      "execution_count": 99,
      "metadata": {},
      "outputs": [
        {
          "name": "stdout",
          "output_type": "stream",
          "text": [
            "0\n"
          ]
        }
      ],
      "source": [
        "df=pd.read_csv(\"bangla_to_ipa_unique_clean2.csv\")\n",
        "remove=[]\n",
        "for row in df.itertuples():\n",
        "  if len(row.bangla_token)>2 and row.bangla_token[-2]==\"!\":\n",
        "    # print(row.bangla_token[1:])\n",
        "\n",
        "    for i in range(1,110,1):\n",
        "      if df.at[row.Index-i,\"bangla_token\"]==row.bangla_token[:-2]:\n",
        "        print(row.Index)\n",
        "        print(row.bangla_token)\n",
        "        # remove that row\n",
        "        remove.append(row.Index)\n",
        "        break\n",
        "\n",
        "df.drop(remove, inplace=True)\n",
        "print(len(remove))"
      ]
    },
    {
      "cell_type": "code",
      "execution_count": 113,
      "metadata": {},
      "outputs": [],
      "source": [
        "# check whole dataset\n",
        "df=pd.read_csv(\"bangla_to_ipa_unique_clean2.csv\")\n",
        "remove=[]\n",
        "for row in df.itertuples():\n",
        "  if row.bangla_token[:-1]==\"?\":\n",
        "    # if contains in the whole dataset\n",
        "    for i in range(len(df)):\n",
        "      if df.at[i,\"bangla_token\"]==row.bangla_token[:-1]:\n",
        "        print(row.Index)\n",
        "        print(i)\n",
        "        print(row.bangla_token)\n",
        "        # remove that row\n",
        "        remove.append(row.Index)\n",
        "        break\n",
        "df.drop(remove, inplace=True)\n"
      ]
    },
    {
      "cell_type": "code",
      "execution_count": 110,
      "metadata": {},
      "outputs": [],
      "source": [
        "df.to_csv(\"bangla_to_ipa_unique_clean2.csv\",index=False)"
      ]
    },
    {
      "cell_type": "code",
      "execution_count": 83,
      "metadata": {},
      "outputs": [
        {
          "name": "stdout",
          "output_type": "stream",
          "text": [
            "angla_to_ipa_unique_clean\n"
          ]
        }
      ],
      "source": [
        "a=\"bangla_to_ipa_unique_clean\"\n",
        "print(a[1:])"
      ]
    }
  ],
  "metadata": {
    "colab": {
      "provenance": []
    },
    "kernelspec": {
      "display_name": "Python 3",
      "name": "python3"
    },
    "language_info": {
      "codemirror_mode": {
        "name": "ipython",
        "version": 3
      },
      "file_extension": ".py",
      "mimetype": "text/x-python",
      "name": "python",
      "nbconvert_exporter": "python",
      "pygments_lexer": "ipython3",
      "version": "3.11.4"
    }
  },
  "nbformat": 4,
  "nbformat_minor": 0
}
