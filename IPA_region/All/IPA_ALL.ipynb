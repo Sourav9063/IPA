{
 "cells": [
  {
   "cell_type": "code",
   "execution_count": 5,
   "metadata": {},
   "outputs": [
    {
     "name": "stdout",
     "output_type": "stream",
     "text": [
      "4\n"
     ]
    }
   ],
   "source": [
    "import pandas as pd\n",
    "import glob\n",
    "\n",
    "df=pd.read_excel(\"all_words_with_ipa.xlsx\")\n",
    "# read all csv files in the folder using glob and pandas in a lambda function\n",
    "dfs=[pd.read_csv(f) for f in glob.glob(\"*.csv\")]\n",
    "print(len(dfs))\n",
    "ipa_file=\"test_region_word_ipa_all\"\n",
    "df_chittagong=pd.read_csv(ipa_file+\".csv\")\n",
    "df[\"ipa_narshingdi\"]=df_chittagong[\"ipa_narshingdi\"]\n",
    "df[\"ipa_rangpur\"]=df_chittagong[\"ipa_rangpur\"]\n",
    "\n",
    "\n",
    "df.to_excel(\"all_words_with_ipa.xlsx\",index=False)\n"
   ]
  },
  {
   "cell_type": "code",
   "execution_count": 11,
   "metadata": {},
   "outputs": [
    {
     "name": "stdout",
     "output_type": "stream",
     "text": [
      "['Rangpur', 'Kishoreganj', 'Narail', 'Chittagong', 'Narsingdi', 'chittagong_ipa', 'narail_ipa', 'kishoreganj_ipa', 'ipa_narshingdi', 'ipa_rangpur']\n"
     ]
    }
   ],
   "source": [
    "df=pd.read_excel(\"all_words_with_ipa.xlsx\")\n",
    "# rearrange the columns\n",
    "cols = df.columns.tolist()\n",
    "print(cols)\n",
    "# df=df[['Rangpur','ipa_rangpur', 'Kishoreganj', 'kishoreganj_ipa',  'Chittagong','chittagong_ipa', 'Narsingdi', 'ipa_narshingdi','Narail',  'narail_ipa']]\n",
    "df=df.reindex(columns=['Rangpur','ipa_rangpur', 'Kishoreganj', 'kishoreganj_ipa',  'Chittagong','chittagong_ipa', 'Narsingdi', 'ipa_narshingdi','Narail',  'narail_ipa'])\n",
    "df.to_excel(\"all_words_with_ipa.xlsx\",index=False)"
   ]
  },
  {
   "cell_type": "code",
   "execution_count": 12,
   "metadata": {},
   "outputs": [],
   "source": [
    "df.to_csv(\"all_words_with_ipa.csv\",index=False)"
   ]
  }
 ],
 "metadata": {
  "kernelspec": {
   "display_name": "base",
   "language": "python",
   "name": "python3"
  },
  "language_info": {
   "codemirror_mode": {
    "name": "ipython",
    "version": 3
   },
   "file_extension": ".py",
   "mimetype": "text/x-python",
   "name": "python",
   "nbconvert_exporter": "python",
   "pygments_lexer": "ipython3",
   "version": "3.11.4"
  }
 },
 "nbformat": 4,
 "nbformat_minor": 2
}
