{
 "cells": [
  {
   "cell_type": "code",
   "execution_count": 2,
   "metadata": {},
   "outputs": [],
   "source": [
    "import pandas as pd\n",
    "from concurrent.futures import ThreadPoolExecutor"
   ]
  },
  {
   "cell_type": "code",
   "execution_count": 3,
   "metadata": {},
   "outputs": [
    {
     "data": {
      "text/html": [
       "<div>\n",
       "<style scoped>\n",
       "    .dataframe tbody tr th:only-of-type {\n",
       "        vertical-align: middle;\n",
       "    }\n",
       "\n",
       "    .dataframe tbody tr th {\n",
       "        vertical-align: top;\n",
       "    }\n",
       "\n",
       "    .dataframe thead th {\n",
       "        text-align: right;\n",
       "    }\n",
       "</style>\n",
       "<table border=\"1\" class=\"dataframe\">\n",
       "  <thead>\n",
       "    <tr style=\"text-align: right;\">\n",
       "      <th></th>\n",
       "      <th>Unnamed: 0.1</th>\n",
       "      <th>Unnamed: 0</th>\n",
       "      <th>District</th>\n",
       "      <th>External_ID</th>\n",
       "      <th>Contents</th>\n",
       "      <th>ipa</th>\n",
       "      <th>validated_ipa</th>\n",
       "    </tr>\n",
       "  </thead>\n",
       "  <tbody>\n",
       "    <tr>\n",
       "      <th>0</th>\n",
       "      <td>0</td>\n",
       "      <td>0</td>\n",
       "      <td>Habiganj</td>\n",
       "      <td>rec_01_audio_0.wav</td>\n",
       "      <td>আইলাম তোমরার সাতে মাতবার লাইগা।</td>\n",
       "      <td>a͡i̯lam t̪omrar ʃat̪e mat̪bar la͡i̯ga।</td>\n",
       "      <td>ɐ͡ɪ̯lɐm t̪omɾɐɾ ʃɐt̪e mɐt̪bɐɾ lɐ͡ɪ̯gɐ।</td>\n",
       "    </tr>\n",
       "    <tr>\n",
       "      <th>1</th>\n",
       "      <td>1</td>\n",
       "      <td>1</td>\n",
       "      <td>Habiganj</td>\n",
       "      <td>rec_01_audio_0.wav</td>\n",
       "      <td>বন্দ খর।</td>\n",
       "      <td>bonk kʰɔr।</td>\n",
       "      <td>bonk kʰɔɾ।</td>\n",
       "    </tr>\n",
       "    <tr>\n",
       "      <th>2</th>\n",
       "      <td>2</td>\n",
       "      <td>2</td>\n",
       "      <td>Habiganj</td>\n",
       "      <td>rec_01_audio_0.wav</td>\n",
       "      <td>সুফিয়া ছিনছ না, মতুইরার মার নাম ওইত্তো।</td>\n",
       "      <td>ʃupʰiʲa cʰincʰo na, mot̪u͡i̯rar mar nam o͡i̯t...</td>\n",
       "      <td>ʃupʰɪʲɐ cʰɪncʰo nɐ, mot̪u͡ɪ̯ɾɐɾ mɐɾ nɐm o͡ɪ̯t...</td>\n",
       "    </tr>\n",
       "    <tr>\n",
       "      <th>3</th>\n",
       "      <td>3</td>\n",
       "      <td>3</td>\n",
       "      <td>Habiganj</td>\n",
       "      <td>rec_01_audio_0.wav</td>\n",
       "      <td>ও মতুইরার মার নাম সুফিয়া?</td>\n",
       "      <td>o mot̪u͡i̯rar mar nam ʃupʰiʲa?</td>\n",
       "      <td>o mot̪u͡ɪ̯ɾɐɾ mɐɾ nɐm ʃupʰɪʲɐ?</td>\n",
       "    </tr>\n",
       "    <tr>\n",
       "      <th>4</th>\n",
       "      <td>4</td>\n",
       "      <td>4</td>\n",
       "      <td>Habiganj</td>\n",
       "      <td>rec_01_audio_0.wav</td>\n",
       "      <td>হু।</td>\n",
       "      <td>hu।</td>\n",
       "      <td>hu।</td>\n",
       "    </tr>\n",
       "  </tbody>\n",
       "</table>\n",
       "</div>"
      ],
      "text/plain": [
       "   Unnamed: 0.1  Unnamed: 0  District         External_ID  \\\n",
       "0             0           0  Habiganj  rec_01_audio_0.wav   \n",
       "1             1           1  Habiganj  rec_01_audio_0.wav   \n",
       "2             2           2  Habiganj  rec_01_audio_0.wav   \n",
       "3             3           3  Habiganj  rec_01_audio_0.wav   \n",
       "4             4           4  Habiganj  rec_01_audio_0.wav   \n",
       "\n",
       "                                  Contents  \\\n",
       "0          আইলাম তোমরার সাতে মাতবার লাইগা।   \n",
       "1                                 বন্দ খর।   \n",
       "2  সুফিয়া ছিনছ না, মতুইরার মার নাম ওইত্তো।   \n",
       "3                ও মতুইরার মার নাম সুফিয়া?   \n",
       "4                                      হু।   \n",
       "\n",
       "                                                 ipa  \\\n",
       "0             a͡i̯lam t̪omrar ʃat̪e mat̪bar la͡i̯ga।   \n",
       "1                                         bonk kʰɔr।   \n",
       "2   ʃupʰiʲa cʰincʰo na, mot̪u͡i̯rar mar nam o͡i̯t...   \n",
       "3                     o mot̪u͡i̯rar mar nam ʃupʰiʲa?   \n",
       "4                                                hu।   \n",
       "\n",
       "                                       validated_ipa  \n",
       "0             ɐ͡ɪ̯lɐm t̪omɾɐɾ ʃɐt̪e mɐt̪bɐɾ lɐ͡ɪ̯gɐ।  \n",
       "1                                         bonk kʰɔɾ।  \n",
       "2   ʃupʰɪʲɐ cʰɪncʰo nɐ, mot̪u͡ɪ̯ɾɐɾ mɐɾ nɐm o͡ɪ̯t...  \n",
       "3                     o mot̪u͡ɪ̯ɾɐɾ mɐɾ nɐm ʃupʰɪʲɐ?  \n",
       "4                                                hu।  "
      ]
     },
     "execution_count": 3,
     "metadata": {},
     "output_type": "execute_result"
    }
   ],
   "source": [
    "file_name=\"habiganj_sent_df_withIPA_replaced\"\n",
    "df=pd.read_excel(file_name+\".xlsx\")\n",
    "df.head()"
   ]
  },
  {
   "cell_type": "code",
   "execution_count": 4,
   "metadata": {},
   "outputs": [
    {
     "data": {
      "text/html": [
       "<div>\n",
       "<style scoped>\n",
       "    .dataframe tbody tr th:only-of-type {\n",
       "        vertical-align: middle;\n",
       "    }\n",
       "\n",
       "    .dataframe tbody tr th {\n",
       "        vertical-align: top;\n",
       "    }\n",
       "\n",
       "    .dataframe thead th {\n",
       "        text-align: right;\n",
       "    }\n",
       "</style>\n",
       "<table border=\"1\" class=\"dataframe\">\n",
       "  <thead>\n",
       "    <tr style=\"text-align: right;\">\n",
       "      <th></th>\n",
       "      <th>Unnamed: 0.1</th>\n",
       "      <th>Unnamed: 0</th>\n",
       "      <th>District</th>\n",
       "      <th>External_ID</th>\n",
       "      <th>Contents</th>\n",
       "      <th>ipa</th>\n",
       "    </tr>\n",
       "  </thead>\n",
       "  <tbody>\n",
       "    <tr>\n",
       "      <th>0</th>\n",
       "      <td>0</td>\n",
       "      <td>0</td>\n",
       "      <td>Habiganj</td>\n",
       "      <td>rec_01_audio_0.wav</td>\n",
       "      <td>আইলাম তোমরার সাতে মাতবার লাইগা।</td>\n",
       "      <td>ɐ͡ɪ̯lɐm t̪omɾɐɾ ʃɐt̪e mɐt̪bɐɾ lɐ͡ɪ̯gɐ।</td>\n",
       "    </tr>\n",
       "    <tr>\n",
       "      <th>1</th>\n",
       "      <td>1</td>\n",
       "      <td>1</td>\n",
       "      <td>Habiganj</td>\n",
       "      <td>rec_01_audio_0.wav</td>\n",
       "      <td>বন্দ খর।</td>\n",
       "      <td>bonk kʰɔɾ।</td>\n",
       "    </tr>\n",
       "    <tr>\n",
       "      <th>2</th>\n",
       "      <td>2</td>\n",
       "      <td>2</td>\n",
       "      <td>Habiganj</td>\n",
       "      <td>rec_01_audio_0.wav</td>\n",
       "      <td>সুফিয়া ছিনছ না, মতুইরার মার নাম ওইত্তো।</td>\n",
       "      <td>ʃupʰɪʲɐ cʰɪncʰo nɐ, mot̪u͡ɪ̯ɾɐɾ mɐɾ nɐm o͡ɪ̯t...</td>\n",
       "    </tr>\n",
       "    <tr>\n",
       "      <th>3</th>\n",
       "      <td>3</td>\n",
       "      <td>3</td>\n",
       "      <td>Habiganj</td>\n",
       "      <td>rec_01_audio_0.wav</td>\n",
       "      <td>ও মতুইরার মার নাম সুফিয়া?</td>\n",
       "      <td>o mot̪u͡ɪ̯ɾɐɾ mɐɾ nɐm ʃupʰɪʲɐ?</td>\n",
       "    </tr>\n",
       "    <tr>\n",
       "      <th>4</th>\n",
       "      <td>4</td>\n",
       "      <td>4</td>\n",
       "      <td>Habiganj</td>\n",
       "      <td>rec_01_audio_0.wav</td>\n",
       "      <td>হু।</td>\n",
       "      <td>hu।</td>\n",
       "    </tr>\n",
       "  </tbody>\n",
       "</table>\n",
       "</div>"
      ],
      "text/plain": [
       "   Unnamed: 0.1  Unnamed: 0  District         External_ID  \\\n",
       "0             0           0  Habiganj  rec_01_audio_0.wav   \n",
       "1             1           1  Habiganj  rec_01_audio_0.wav   \n",
       "2             2           2  Habiganj  rec_01_audio_0.wav   \n",
       "3             3           3  Habiganj  rec_01_audio_0.wav   \n",
       "4             4           4  Habiganj  rec_01_audio_0.wav   \n",
       "\n",
       "                                  Contents  \\\n",
       "0          আইলাম তোমরার সাতে মাতবার লাইগা।   \n",
       "1                                 বন্দ খর।   \n",
       "2  সুফিয়া ছিনছ না, মতুইরার মার নাম ওইত্তো।   \n",
       "3                ও মতুইরার মার নাম সুফিয়া?   \n",
       "4                                      হু।   \n",
       "\n",
       "                                                 ipa  \n",
       "0             ɐ͡ɪ̯lɐm t̪omɾɐɾ ʃɐt̪e mɐt̪bɐɾ lɐ͡ɪ̯gɐ।  \n",
       "1                                         bonk kʰɔɾ।  \n",
       "2   ʃupʰɪʲɐ cʰɪncʰo nɐ, mot̪u͡ɪ̯ɾɐɾ mɐɾ nɐm o͡ɪ̯t...  \n",
       "3                     o mot̪u͡ɪ̯ɾɐɾ mɐɾ nɐm ʃupʰɪʲɐ?  \n",
       "4                                                hu।  "
      ]
     },
     "execution_count": 4,
     "metadata": {},
     "output_type": "execute_result"
    }
   ],
   "source": [
    "df.drop(columns=[\"ipa\"],inplace=True)\n",
    "# rename columns\n",
    "df.rename(columns={\"validated_ipa\":\"ipa\"},inplace=True)\n",
    "df.head()"
   ]
  },
  {
   "cell_type": "code",
   "execution_count": 5,
   "metadata": {},
   "outputs": [],
   "source": [
    "df.to_excel(file_name+\"_final.xlsx\",index=False)"
   ]
  },
  {
   "cell_type": "code",
   "execution_count": 22,
   "metadata": {},
   "outputs": [
    {
     "data": {
      "text/html": [
       "<div>\n",
       "<style scoped>\n",
       "    .dataframe tbody tr th:only-of-type {\n",
       "        vertical-align: middle;\n",
       "    }\n",
       "\n",
       "    .dataframe tbody tr th {\n",
       "        vertical-align: top;\n",
       "    }\n",
       "\n",
       "    .dataframe thead th {\n",
       "        text-align: right;\n",
       "    }\n",
       "</style>\n",
       "<table border=\"1\" class=\"dataframe\">\n",
       "  <thead>\n",
       "    <tr style=\"text-align: right;\">\n",
       "      <th></th>\n",
       "      <th>word</th>\n",
       "      <th>ipa</th>\n",
       "    </tr>\n",
       "  </thead>\n",
       "  <tbody>\n",
       "  </tbody>\n",
       "</table>\n",
       "</div>"
      ],
      "text/plain": [
       "Empty DataFrame\n",
       "Columns: [word, ipa]\n",
       "Index: []"
      ]
     },
     "execution_count": 22,
     "metadata": {},
     "output_type": "execute_result"
    }
   ],
   "source": [
    "col=[\"word\",\"ipa\"]\n",
    "df_words=pd.DataFrame(columns=col)\n",
    "df_words.head()"
   ]
  },
  {
   "cell_type": "code",
   "execution_count": 12,
   "metadata": {},
   "outputs": [
    {
     "name": "stdout",
     "output_type": "stream",
     "text": [
      "['আ', 'ই', 'ল', 'া', 'ম', ' ', 'ত', 'ো', 'র', 'স', 'ে', 'ব', 'গ', '।', 'ন', '্', 'দ', 'খ', 'ু', 'ফ', 'ি', 'য়', 'ছ', ',', 'ও', '?', 'হ', '<', '>', 'ট', 'ড', 'এ', 'জ', 'ষ', 'ক', 'ড়', 'ভ', 'ধ', 'ী', 'ং', 'অ', '-', 'শ', 'য', 'চ', 'ঘ', 'উ', 'ঝ', '!', 'ঙ', 'ঞ', 'ৃ', 'প', '৷', 'থ', 'ঁ', 'ৌ', 'ণ', 'ৎ', 'ূ', 'ঢ', '়', 'ৈ', 'ঠ', \"'\", 'ঋ', '\\n', '\\u200c', '\"', ';', '‘', '’', '\\u200d', 'ৗ', '১', '০', 'ঐ', 'ঃ', 'ঈ', 'ঔ', 'ঢ়', '+']\n"
     ]
    }
   ],
   "source": [
    "unique_char=[]\n",
    "for row in df.itertuples():\n",
    "    sentence=row.Contents\n",
    "    ipa_sen=row.ipa\n",
    "    for ch in sentence:\n",
    "        if ch not in unique_char:\n",
    "            unique_char.append(ch)\n",
    "\n",
    "print(unique_char)"
   ]
  },
  {
   "cell_type": "code",
   "execution_count": 13,
   "metadata": {},
   "outputs": [
    {
     "name": "stdout",
     "output_type": "stream",
     "text": [
      "['\\n', ' ', '!', '\"', \"'\", '+', ',', '-', ';', '<', '>', '?', '।', 'ঁ', 'ং', 'ঃ', 'অ', 'আ', 'ই', 'ঈ', 'উ', 'ঋ', 'এ', 'ঐ', 'ও', 'ঔ', 'ক', 'খ', 'গ', 'ঘ', 'ঙ', 'চ', 'ছ', 'জ', 'ঝ', 'ঞ', 'ট', 'ঠ', 'ড', 'ঢ', 'ণ', 'ত', 'থ', 'দ', 'ধ', 'ন', 'প', 'ফ', 'ব', 'ভ', 'ম', 'য', 'র', 'ল', 'শ', 'ষ', 'স', 'হ', '়', 'া', 'ি', 'ী', 'ু', 'ূ', 'ৃ', 'ে', 'ৈ', 'ো', 'ৌ', '্', 'ৎ', 'ৗ', 'ড়', 'ঢ়', 'য়', '০', '১', '৷', '\\u200c', '\\u200d', '‘', '’']\n"
     ]
    }
   ],
   "source": [
    "unique_char.sort()\n",
    "print(unique_char)"
   ]
  },
  {
   "cell_type": "code",
   "execution_count": 14,
   "metadata": {},
   "outputs": [],
   "source": [
    "bn_chars=[ 'ঁ', 'ং', 'ঃ', 'অ', 'আ', 'ই', 'ঈ', 'উ', 'ঋ', 'এ', 'ঐ', 'ও', 'ঔ', 'ক', 'খ', 'গ', 'ঘ', 'ঙ', 'চ', 'ছ', 'জ', 'ঝ', 'ঞ', 'ট', 'ঠ', 'ড', 'ঢ', 'ণ', 'ত', 'থ', 'দ', 'ধ', 'ন', 'প', 'ফ', 'ব', 'ভ', 'ম', 'য', 'র', 'ল', 'শ', 'ষ', 'স', 'হ', '়', 'া', 'ি', 'ী', 'ু', 'ূ', 'ৃ', 'ে', 'ৈ', 'ো', 'ৌ', '্', 'ৎ', 'ৗ', 'ড়', 'ঢ়', 'য়']"
   ]
  },
  {
   "cell_type": "code",
   "execution_count": 16,
   "metadata": {},
   "outputs": [],
   "source": [
    "sp_char=['\\n', ' ', '!', '\"', \"'\", '+', ',', '-', ';', '<', '>', '?', '।', '৷', '\\u200c', '\\u200d', '‘', '’']\n"
   ]
  },
  {
   "cell_type": "code",
   "execution_count": 37,
   "metadata": {},
   "outputs": [
    {
     "name": "stdout",
     "output_type": "stream",
     "text": [
      "8456\n",
      "8456\n"
     ]
    }
   ],
   "source": [
    "unique_words=[]\n",
    "unique_ipas=[]\n",
    "for row in df.itertuples():\n",
    "    sentence=row.Contents\n",
    "    ipa_sen=row.ipa\n",
    "    words=sentence.split()\n",
    "    ipas=ipa_sen.split()\n",
    "    for word,ipa in zip(words,ipas):\n",
    "        # remove punctuation\n",
    "        if word[0] in sp_char:\n",
    "            word=word[1:]\n",
    "        if len(word)==0:\n",
    "            continue\n",
    "        if word[-1] in sp_char:\n",
    "            word=word[:-1]\n",
    "        if ipa[0] in sp_char:\n",
    "            ipa=ipa[1:]\n",
    "        if len(ipa)==0:\n",
    "            continue\n",
    "        if ipa[-1] in sp_char:\n",
    "            ipa=ipa[:-1]\n",
    "\n",
    "        if word not in unique_words:\n",
    "            unique_words.append(word)\n",
    "            unique_ipas.append(ipa)\n",
    "\n",
    "print(len(unique_words))\n",
    "print(len(unique_ipas))\n"
   ]
  },
  {
   "cell_type": "code",
   "execution_count": 38,
   "metadata": {},
   "outputs": [
    {
     "data": {
      "text/html": [
       "<div>\n",
       "<style scoped>\n",
       "    .dataframe tbody tr th:only-of-type {\n",
       "        vertical-align: middle;\n",
       "    }\n",
       "\n",
       "    .dataframe tbody tr th {\n",
       "        vertical-align: top;\n",
       "    }\n",
       "\n",
       "    .dataframe thead th {\n",
       "        text-align: right;\n",
       "    }\n",
       "</style>\n",
       "<table border=\"1\" class=\"dataframe\">\n",
       "  <thead>\n",
       "    <tr style=\"text-align: right;\">\n",
       "      <th></th>\n",
       "      <th>word</th>\n",
       "      <th>ipa</th>\n",
       "    </tr>\n",
       "  </thead>\n",
       "  <tbody>\n",
       "    <tr>\n",
       "      <th>0</th>\n",
       "      <td>আইলাম</td>\n",
       "      <td>ɐ͡ɪ̯lɐm</td>\n",
       "    </tr>\n",
       "    <tr>\n",
       "      <th>1</th>\n",
       "      <td>তোমরার</td>\n",
       "      <td>t̪omɾɐɾ</td>\n",
       "    </tr>\n",
       "    <tr>\n",
       "      <th>2</th>\n",
       "      <td>সাতে</td>\n",
       "      <td>ʃɐt̪e</td>\n",
       "    </tr>\n",
       "    <tr>\n",
       "      <th>3</th>\n",
       "      <td>মাতবার</td>\n",
       "      <td>mɐt̪bɐɾ</td>\n",
       "    </tr>\n",
       "    <tr>\n",
       "      <th>4</th>\n",
       "      <td>লাইগা</td>\n",
       "      <td>lɐ͡ɪ̯gɐ</td>\n",
       "    </tr>\n",
       "  </tbody>\n",
       "</table>\n",
       "</div>"
      ],
      "text/plain": [
       "     word      ipa\n",
       "0   আইলাম  ɐ͡ɪ̯lɐm\n",
       "1  তোমরার  t̪omɾɐɾ\n",
       "2    সাতে    ʃɐt̪e\n",
       "3  মাতবার  mɐt̪bɐɾ\n",
       "4   লাইগা  lɐ͡ɪ̯gɐ"
      ]
     },
     "execution_count": 38,
     "metadata": {},
     "output_type": "execute_result"
    }
   ],
   "source": [
    "col=[\"word\",\"ipa\"]\n",
    "df_words=pd.DataFrame(columns=col)\n",
    "df_words.head()\n",
    "df_words[\"word\"]=unique_words\n",
    "df_words[\"ipa\"]=unique_ipas\n",
    "df_words.head()"
   ]
  },
  {
   "cell_type": "code",
   "execution_count": 25,
   "metadata": {},
   "outputs": [],
   "source": [
    "df_words.to_excel(\"habiganj_unique_words.xlsx\",index=False)"
   ]
  }
 ],
 "metadata": {
  "kernelspec": {
   "display_name": "Python 3",
   "language": "python",
   "name": "python3"
  },
  "language_info": {
   "codemirror_mode": {
    "name": "ipython",
    "version": 3
   },
   "file_extension": ".py",
   "mimetype": "text/x-python",
   "name": "python",
   "nbconvert_exporter": "python",
   "pygments_lexer": "ipython3",
   "version": "undefined.undefined.undefined"
  }
 },
 "nbformat": 4,
 "nbformat_minor": 2
}
