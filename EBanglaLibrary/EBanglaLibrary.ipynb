{
  "cells": [
    {
      "cell_type": "code",
      "execution_count": 3,
      "metadata": {},
      "outputs": [],
      "source": [
        "import pandas as pd\n",
        "import requests\n",
        "import warnings\n",
        "import time\n",
        "import multiprocessing\n",
        "import threading\n",
        "from concurrent.futures import ThreadPoolExecutor\n",
        "from bs4 import BeautifulSoup\n",
        "# from google.colab import files\n",
        "warnings.filterwarnings('ignore', message='Unverified HTTPS request')"
      ]
    },
    {
      "cell_type": "code",
      "execution_count": 34,
      "metadata": {},
      "outputs": [],
      "source": [
        "df = pd.read_csv('sourav_clean_ebanglalibrary_scrapping_meta_data - ebanglalibrary_scrapping_meta_data.csv')"
      ]
    },
    {
      "cell_type": "code",
      "execution_count": 38,
      "metadata": {},
      "outputs": [
        {
          "name": "stdout",
          "output_type": "stream",
          "text": [
            "লাইব্রেরি >> রুদ্র মুহম্মদ শহিদুল্লাহ >> কাব্যসংগ্রহ (রুদ্র মুহম্মদ শহিদুল্লাহ) >> উপদ্রুত উপকূল (১৯৭৯) >> অভিমানের খেয়া\n",
            "লাইব্রেরি >> রুদ্র মুহম্মদ শহিদুল্লাহ >> কাব্যসংগ্রহ (রুদ্র মুহম্মদ শহিদুল্লাহ) >> উপদ্রুত উপকূল (১৯৭৯) >> বাতাসে লাশের গন্ধ\n",
            "লাইব্রেরি >> রুদ্র মুহম্মদ শহিদুল্লাহ >> কাব্যসংগ্রহ (রুদ্র মুহম্মদ শহিদুল্লাহ) >> এক গ্লাস অন্ধকার (১৯৯২) >> কথা ছিলো সুবিনয়\n",
            "লাইব্রেরি >> রুদ্র মুহম্মদ শহিদুল্লাহ >> কাব্যসংগ্রহ (রুদ্র মুহম্মদ শহিদুল্লাহ) >> এক গ্লাস অন্ধকার (১৯৯২) >> ধর্মান্ধের ধর্ম নেই, আছে লোভ, ঘৃণ্য চতুরতা\n",
            "লাইব্রেরি >> রুদ্র মুহম্মদ শহিদুল্লাহ >> কাব্যসংগ্রহ (রুদ্র মুহম্মদ শহিদুল্লাহ) >> খুটিনাটি খুনশুটি ও অন্যান্য কবিতা >> আমি একজন ঈশ্বর\n",
            "লাইব্রেরি >> রুদ্র মুহম্মদ শহিদুল্লাহ >> কাব্যসংগ্রহ (রুদ্র মুহম্মদ শহিদুল্লাহ) >> খুটিনাটি খুনশুটি ও অন্যান্য কবিতা >> আমি একজন ঈশ্বর\n",
            "লাইব্রেরি >> রুদ্র মুহম্মদ শহিদুল্লাহ >> কাব্যসংগ্রহ (রুদ্র মুহম্মদ শহিদুল্লাহ) >> খুটিনাটি খুনশুটি ও অন্যান্য কবিতা >> ঈশ্বর তুমি পাপী\n",
            "লাইব্রেরি >> রুদ্র মুহম্মদ শহিদুল্লাহ >> কাব্যসংগ্রহ (রুদ্র মুহম্মদ শহিদুল্লাহ) >> খুটিনাটি খুনশুটি ও অন্যান্য কবিতা >> ঈশ্বরের সংগে গুরুত্বপূর্ণ সাক্ষাৎকার\n",
            "লাইব্রেরি >> রুদ্র মুহম্মদ শহিদুল্লাহ >> কাব্যসংগ্রহ (রুদ্র মুহম্মদ শহিদুল্লাহ) >> খুটিনাটি খুনশুটি ও অন্যান্য কবিতা >> মাংশের মুখোশ\n",
            "লাইব্রেরি >> রুদ্র মুহম্মদ শহিদুল্লাহ >> কাব্যসংগ্রহ (রুদ্র মুহম্মদ শহিদুল্লাহ) >> খুটিনাটি খুনশুটি ও অন্যান্য কবিতা >> রবীন্দ্রনাথ তোমার কবিতা উয়িদড্র করো\n",
            "লাইব্রেরি >> রুদ্র মুহম্মদ শহিদুল্লাহ >> কাব্যসংগ্রহ (রুদ্র মুহম্মদ শহিদুল্লাহ) >> গল্প (১৯৮৭) >> পাখিদের গল্প\n",
            "লাইব্রেরি >> রুদ্র মুহম্মদ শহিদুল্লাহ >> কাব্যসংগ্রহ (রুদ্র মুহম্মদ শহিদুল্লাহ) >> ছোবল (১৯৮৬) >> ইশতেহার\n",
            "লাইব্রেরি >> রুদ্র মুহম্মদ শহিদুল্লাহ >> কাব্যসংগ্রহ (রুদ্র মুহম্মদ শহিদুল্লাহ) >> দিয়েছিলে সকল আকাশ (১৯৮৮) >> পথ\n",
            "লাইব্রেরি >> রুদ্র মুহম্মদ শহিদুল্লাহ >> কাব্যসংগ্রহ (রুদ্র মুহম্মদ শহিদুল্লাহ) >> ফিরে চাই স্বর্ণগ্রাম (১৯৮১) >> হাড়েরও ঘরখানি\n",
            "লাইব্রেরি >> রুদ্র মুহম্মদ শহিদুল্লাহ >> কাব্যসংগ্রহ (রুদ্র মুহম্মদ শহিদুল্লাহ) >> মানুষের মানচিত্র (১৯৮৪) >> মানুষের মানচিত্র ০১\n",
            "লাইব্রেরি >> রুদ্র মুহম্মদ শহিদুল্লাহ >> কাব্যসংগ্রহ (রুদ্র মুহম্মদ শহিদুল্লাহ) >> মৌলিক মুখোশ (১৯৯০) >> পরকিয়া\n"
          ]
        }
      ],
      "source": [
        "exclude=[\"শ্রীকৃষ্ণকীর্তন\", \"বাংলা বেদ >> ঋগ্বেদ সংহিতা\", \"বাংলা হাদিস >>\", \"বাংলা মহাভারত >>\", \"বাংলা মহাভারত >>\", \"বাংলা রামায়ণ >>\", \"গীতা-প্রসঙ্গ >>\", \"বাংলা গীতা >>\", \"ঈশ্বরচন্দ্র বিদ্যাসাগর >>\", \"কমলকুমার মজুমদার >>\", \"কাব্যগ্রন্থ\", \"গীতিগ্রন্থ\", \"বোদলেয়ার: তাঁর কবিতা\", \"মাইকেল মধুসূদন দত্ত >> চতুর্দশপদী কবিতাবলী\", \"মাইকেল মধুসূদন দত্ত >> মেঘনাদবধ কাব্য\", \"রাজশেখখর বসুর কবিতা\", \">> হিন্দুধর্ম >>\", \"হুমায়ুন আজাদ >> কাব্যসংগ্রহ\", \"শামসুর রাহমান >> কাব্যগ্রন্থ\",\"রুদ্র মুহম্মদ শহিদুল্লাহ >> কাব্যসংগ্রহ\"]\n",
        "\n",
        "# sub=df.iloc[0:1000]\n",
        "exclude_row=[]\n",
        "for row in df.itertuples():\n",
        "  for e in exclude:\n",
        "    if e in row._3:\n",
        "      exclude_row.append(row.Index)\n",
        "      print(row._3)\n",
        "\n",
        "\n"
      ]
    },
    {
      "cell_type": "code",
      "execution_count": 39,
      "metadata": {},
      "outputs": [],
      "source": [
        "df.drop(exclude_row, inplace=True)\n",
        "df.to_csv(\"clean_ebanglalibrary.csv\", index=False)\n",
        "df.reset_index(drop=True, inplace=True)"
      ]
    },
    {
      "cell_type": "code",
      "execution_count": null,
      "metadata": {},
      "outputs": [],
      "source": [
        "# শ্রীকৃষ্ণকীর্তন \n",
        "# বাংলা বেদ >> ঋগ্বেদ সংহিতা\n",
        "# বাংলা হাদিস >>\n",
        "# বাংলা মহাভারত >>\n",
        "# বাংলা মহাভারত >>\n",
        "# বাংলা রামায়ণ >>\n",
        "# গীতা-প্রসঙ্গ >>\n",
        "# বাংলা গীতা >>\n",
        "# ঈশ্বরচন্দ্র বিদ্যাসাগর >>\n",
        "# কমলকুমার মজুমদার >> \n",
        "# কাব্যগ্রন্থ\n",
        "# গীতিগ্রন্থ\n",
        "# বোদলেয়ার: তাঁর কবিতা\n",
        "# মাইকেল মধুসূদন দত্ত >> চতুর্দশপদী কবিতাবলী \n",
        "# মাইকেল মধুসূদন দত্ত >> মেঘনাদবধ কাব্য\n",
        "# রাজশেখখর বসুর কবিতা\n",
        "# >> হিন্দুধর্ম >>\n",
        "# হুমায়ুন আজাদ >> কাব্যসংগ্রহ\n",
        "# শামসুর রাহমান >> কাব্যগ্রন্থ\n",
        "\n",
        "exclude_list=[\"শ্রীকৃষ্ণকীর্তন\", \"বাংলা বেদ >> ঋগ্বেদ সংহিতা\", \"বাংলা হাদিস >>\", \"বাংলা মহাভারত >>\", \"বাংলা মহাভারত >>\", \"বাংলা রামায়ণ >>\", \"গীতা-প্রসঙ্গ >>\", \"বাংলা গীতা >>\", \"ঈশ্বরচন্দ্র বিদ্যাসাগর >>\", \"কমলকুমার মজুমদার >>\", \"কাব্যগ্রন্থ\", \"গীতিগ্রন্থ\", \"বোদলেয়ার: তাঁর কবিতা\", \"মাইকেল মধুসূদন দত্ত >> চতুর্দশপদী কবিতাবলী\", \"মাইকেল মধুসূদন দত্ত >> মেঘনাদবধ কাব্য\", \"রাজশেখখর বসুর কবিতা\", \">> হিন্দুধর্ম >>\", \"হুমায়ুন আজাদ >> কাব্যসংগ্রহ\", \"শামসুর রাহমান >> কাব্যগ্রন্থ\"]\n",
        "\n"
      ]
    },
    {
      "cell_type": "markdown",
      "metadata": {},
      "source": [
        "WEB scrapping"
      ]
    },
    {
      "cell_type": "code",
      "execution_count": 6,
      "metadata": {},
      "outputs": [],
      "source": [
        "df = pd.read_csv('clean_ebanglalibrary.csv')\n",
        "df_all_sentence=pd.read_csv(\"all_sentence.csv\")"
      ]
    },
    {
      "cell_type": "code",
      "execution_count": 10,
      "metadata": {},
      "outputs": [],
      "source": [
        "sub = df.iloc[0:5000]\n",
        "for row in sub.itertuples():\n",
        "  article=\"\"\n",
        "  if pd.isna(row.Url):\n",
        "    continue\n",
        "  if pd.notna(df_all_sentence.at[row.Index, 'all_sentence']):\n",
        "    continue\n",
        "  try:\n",
        "\n",
        "    page=requests.get(row.Url)\n",
        "    soup = BeautifulSoup(page.text, 'html.parser')\n",
        "    elements =soup.select(\".entry-content-single\") or soup.select(\"div > p\")\n",
        "    for element in elements:\n",
        "      if len(element.text.split(\" \"))>4:\n",
        "        article+=element.text\n",
        "    # article.replace(\"\\n\", \" \")\n",
        "    df_all_sentence.at[row.Index,\"all_sentence\"] = article\n",
        "  except:\n",
        "    print(row.Index)\n",
        "    continue\n",
        "df_all_sentence.to_csv(\"all_sentence.csv\", index=False)\n"
      ]
    },
    {
      "cell_type": "code",
      "execution_count": 19,
      "metadata": {},
      "outputs": [],
      "source": [
        "# copy df Url to df_all_sentence Url \n",
        "df_all_sentence['Url']=df['Url']\n",
        "df_all_sentence=df[['Url','Content tree']].copy()\n",
        "df_all_sentence.to_csv(\"all_sentence.csv\", index=False)"
      ]
    },
    {
      "cell_type": "code",
      "execution_count": null,
      "metadata": {},
      "outputs": [],
      "source": [
        "data={\"all_sentence\":[], \"content_tree\":[], \"Url\":[]}\n",
        "df_all_sentence = pd.DataFrame(data,columns=['all_sentence','content_tree','Url'])\n",
        "# df_all_sentence.to_csv(\"all_sentence.csv\", index=False)"
      ]
    }
  ],
  "metadata": {
    "kernelspec": {
      "display_name": "base",
      "language": "python",
      "name": "python3"
    },
    "language_info": {
      "codemirror_mode": {
        "name": "ipython",
        "version": 3
      },
      "file_extension": ".py",
      "mimetype": "text/x-python",
      "name": "python",
      "nbconvert_exporter": "python",
      "pygments_lexer": "ipython3",
      "version": "3.11.4"
    },
    "orig_nbformat": 4
  },
  "nbformat": 4,
  "nbformat_minor": 2
}
