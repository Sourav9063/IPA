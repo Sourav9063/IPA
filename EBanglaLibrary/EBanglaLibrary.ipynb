{
  "cells": [
    {
      "cell_type": "code",
      "execution_count": 47,
      "metadata": {},
      "outputs": [],
      "source": [
        "import pandas as pd\n",
        "import requests\n",
        "import warnings\n",
        "from bs4 import BeautifulSoup\n",
        "import random\n",
        "import re\n",
        "# import time\n",
        "# import multiprocessing\n",
        "# import threading\n",
        "# from concurrent.futures import ThreadPoolExecutor\n",
        "# from google.colab import files\n",
        "warnings.filterwarnings('ignore', message='Unverified HTTPS request')"
      ]
    },
    {
      "cell_type": "code",
      "execution_count": 36,
      "metadata": {},
      "outputs": [],
      "source": [
        "csv_loc=\"all_sentence.csv\"\n",
        "df = pd.read_csv(csv_loc)"
      ]
    },
    {
      "cell_type": "code",
      "execution_count": 37,
      "metadata": {},
      "outputs": [],
      "source": [
        "exclude=[\"রমণীমোহন মল্লিক >>\",\"শ্রীকৃষ্ণকীর্তন\", \"বাংলা বেদ >> ঋগ্বেদ সংহিতা\", \"বাংলা হাদিস >>\", \"বাংলা মহাভারত >>\", \"বাংলা মহাভারত >>\", \"বাংলা রামায়ণ >>\", \"গীতা-প্রসঙ্গ >>\", \"বাংলা গীতা >>\", \"ঈশ্বরচন্দ্র বিদ্যাসাগর >>\", \"কমলকুমার মজুমদার >>\", \"কাব্যগ্রন্থ\", \"গীতিগ্রন্থ\", \"বোদলেয়ার: তাঁর কবিতা\", \"মাইকেল মধুসূদন দত্ত >> চতুর্দশপদী কবিতাবলী\", \"মাইকেল মধুসূদন দত্ত >> মেঘনাদবধ কাব্য\", \"রাজশেখখর বসুর কবিতা\", \">> হিন্দুধর্ম >>\", \"হুমায়ুন আজাদ >> কাব্যসংগ্রহ\", \"শামসুর রাহমান >> কাব্যগ্রন্থ\",\"রুদ্র মুহম্মদ শহিদুল্লাহ >> কাব্যসংগ্রহ\",\">> কবিতাবলী\"]\n",
        "# sub=df.iloc[0:1000]\n",
        "exclude_row=[]\n",
        "for row in df.itertuples():\n",
        "  for e in exclude:\n",
        "    if e in row._2:\n",
        "    # if e in row._3:\n",
        "      exclude_row.append(row.Index)\n",
        "      print(row._2)\n",
        "      # print(row._3)\n",
        "\n"
      ]
    },
    {
      "cell_type": "code",
      "execution_count": 35,
      "metadata": {},
      "outputs": [],
      "source": [
        "df.drop(exclude_row, inplace=True)\n",
        "df.to_csv(csv_loc, index=False)\n",
        "df.reset_index(drop=True, inplace=True)"
      ]
    },
    {
      "cell_type": "code",
      "execution_count": null,
      "metadata": {},
      "outputs": [],
      "source": [
        "# শ্রীকৃষ্ণকীর্তন \n",
        "# বাংলা বেদ >> ঋগ্বেদ সংহিতা\n",
        "# বাংলা হাদিস >>\n",
        "# বাংলা মহাভারত >>\n",
        "# বাংলা মহাভারত >>\n",
        "# বাংলা রামায়ণ >>\n",
        "# গীতা-প্রসঙ্গ >>\n",
        "# বাংলা গীতা >>\n",
        "# ঈশ্বরচন্দ্র বিদ্যাসাগর >>\n",
        "# কমলকুমার মজুমদার >> \n",
        "# কাব্যগ্রন্থ\n",
        "# গীতিগ্রন্থ\n",
        "# বোদলেয়ার: তাঁর কবিতা\n",
        "# মাইকেল মধুসূদন দত্ত >> চতুর্দশপদী কবিতাবলী \n",
        "# মাইকেল মধুসূদন দত্ত >> মেঘনাদবধ কাব্য\n",
        "# রাজশেখখর বসুর কবিতা\n",
        "# >> হিন্দুধর্ম >>\n",
        "# হুমায়ুন আজাদ >> কাব্যসংগ্রহ\n",
        "# শামসুর রাহমান >> কাব্যগ্রন্থ\n",
        "\n",
        "# exclude_list=[\"শ্রীকৃষ্ণকীর্তন\", \"বাংলা বেদ >> ঋগ্বেদ সংহিতা\", \"বাংলা হাদিস >>\", \"বাংলা মহাভারত >>\", \"বাংলা মহাভারত >>\", \"বাংলা রামায়ণ >>\", \"গীতা-প্রসঙ্গ >>\", \"বাংলা গীতা >>\", \"ঈশ্বরচন্দ্র বিদ্যাসাগর >>\", \"কমলকুমার মজুমদার >>\", \"কাব্যগ্রন্থ\", \"গীতিগ্রন্থ\", \"বোদলেয়ার: তাঁর কবিতা\", \"মাইকেল মধুসূদন দত্ত >> চতুর্দশপদী কবিতাবলী\", \"মাইকেল মধুসূদন দত্ত >> মেঘনাদবধ কাব্য\", \"রাজশেখখর বসুর কবিতা\", \">> হিন্দুধর্ম >>\", \"হুমায়ুন আজাদ >> কাব্যসংগ্রহ\", \"শামসুর রাহমান >> কাব্যগ্রন্থ\"]\n",
        "\n"
      ]
    },
    {
      "cell_type": "markdown",
      "metadata": {},
      "source": [
        "WEB scrapping"
      ]
    },
    {
      "cell_type": "code",
      "execution_count": 9,
      "metadata": {},
      "outputs": [],
      "source": [
        "df = pd.read_csv('clean_ebanglalibrary.csv')\n",
        "df_all_sentence=pd.read_csv(\"all_sentence.csv\")"
      ]
    },
    {
      "cell_type": "code",
      "execution_count": null,
      "metadata": {},
      "outputs": [],
      "source": [
        "sub = df.iloc[0:11000]\n",
        "for row in sub.itertuples():\n",
        "  article=\"\"\n",
        "  if pd.isna(row.Url):\n",
        "    continue\n",
        "  if pd.notna(df_all_sentence.at[row.Index, 'all_sentence']):\n",
        "    continue\n",
        "  try:\n",
        "\n",
        "    page=requests.get(row.Url)\n",
        "    soup = BeautifulSoup(page.text, 'html.parser')\n",
        "    elements =soup.select(\".entry-content-single\") or soup.select(\"div > p\")\n",
        "    for element in elements:\n",
        "      if len(element.text.split(\" \"))>4:\n",
        "        article+=element.text\n",
        "    # article.replace(\"\\n\", \" \")\n",
        "    print(f\"Done:{row.Index}\")\n",
        "    print(row.Url)\n",
        "    df_all_sentence.at[row.Index,\"all_sentence\"] = article\n",
        "  except:\n",
        "    print(f\"+++           Error:{row.Index}\")\n",
        "    continue\n",
        "df_all_sentence.to_csv(\"all_sentence.csv\", index=False)\n"
      ]
    },
    {
      "cell_type": "code",
      "execution_count": 19,
      "metadata": {},
      "outputs": [],
      "source": [
        "# copy df Url to df_all_sentence Url \n",
        "# df_all_sentence['Url']=df['Url']\n",
        "# df_all_sentence=df[['Url','Content tree']].copy()\n",
        "# df_all_sentence.to_csv(\"all_sentence.csv\", index=False)"
      ]
    },
    {
      "cell_type": "code",
      "execution_count": null,
      "metadata": {},
      "outputs": [],
      "source": [
        "# data={\"all_sentence\":[], \"content_tree\":[], \"Url\":[]}\n",
        "# df_all_sentence = pd.DataFrame(data,columns=['all_sentence','content_tree','Url'])\n",
        "# df_all_sentence.to_csv(\"all_sentence.csv\", index=False)"
      ]
    },
    {
      "cell_type": "markdown",
      "metadata": {},
      "source": [
        "Process"
      ]
    },
    {
      "cell_type": "code",
      "execution_count": 5,
      "metadata": {},
      "outputs": [],
      "source": [
        "# sub0_5000 = df_all_sentence.iloc[0:5000]\n",
        "# sub5000_11000 = df_all_sentence.iloc[5000:11000]\n",
        "# sub0_5000.to_csv(\"all_sentence_0_5000.csv\", index=False)\n",
        "# sub5000_11000.to_csv(\"all_sentence_5000_11000.csv\", index=False)"
      ]
    },
    {
      "cell_type": "code",
      "execution_count": 6,
      "metadata": {},
      "outputs": [],
      "source": [
        "# sub0_2500 = df_all_sentence.iloc[0:2500]\n",
        "# sub2500_5000 = df_all_sentence.iloc[2500:5000]\n",
        "# sub5000_7500 = df_all_sentence.iloc[5000:7500]\n",
        "# sub7500_11000 = df_all_sentence.iloc[7500:11000]\n",
        "# sub0_2500.to_csv(\"all_sentence_0_2500.csv\", index=False)\n",
        "# sub2500_5000.to_csv(\"all_sentence_2500_5000.csv\", index=False)\n",
        "# sub5000_7500.to_csv(\"all_sentence_5000_7500.csv\", index=False)\n",
        "# sub7500_11000.to_csv(\"all_sentence_7500_11000.csv\", index=False)\n"
      ]
    },
    {
      "cell_type": "markdown",
      "metadata": {},
      "source": [
        "Clean Manually"
      ]
    },
    {
      "cell_type": "code",
      "execution_count": 40,
      "metadata": {},
      "outputs": [],
      "source": [
        "# df_only_sentence = pd.read_csv('only_sentence.csv')\n",
        "df_all_sentence = pd.read_csv('all_sentence.csv')"
      ]
    },
    {
      "cell_type": "code",
      "execution_count": 56,
      "metadata": {},
      "outputs": [
        {
          "name": "stdout",
          "output_type": "stream",
          "text": [
            "9963\n",
            "9964\n",
            "9965\n",
            "9966\n",
            "9967\n",
            "9968\n",
            "9969\n"
          ]
        }
      ],
      "source": [
        "df_only_sentence = pd.read_csv('only_sentence_with_punc.csv')\n",
        "\n",
        "start=max(int(input(\"Start: \")),df_only_sentence.iloc[-1].e_index)\n",
        "end=int(input(\"End: \"))\n",
        "sub=df_all_sentence.iloc[start:end]\n",
        "for row in sub.itertuples():\n",
        "  if pd.isna(row.all_sentence):\n",
        "    continue\n",
        "  all_words=row.all_sentence.split(\" \")\n",
        "  s1=[]\n",
        "  splits=[]\n",
        "  for word in all_words:\n",
        "    if len(word)>0 and word[-1] in [\"।\", \"?\"]:\n",
        "      s1.append(word)\n",
        "      splits.append(\" \".join(s1))\n",
        "      s1=[]\n",
        "    else:\n",
        "      s1.append(word)\n",
        "\n",
        "\n",
        "\n",
        "\n",
        "\n",
        "  # splits=row.all_sentence.split(\"।\")\n",
        "  splits_len=len(splits)\n",
        "  print(row.Index)\n",
        "  # randomly select 10 sentence or length of splits which is less than 10\n",
        "  for sentence in random.sample(splits, min(20, splits_len)):\n",
        "    if len(sentence.split(\" \"))>5 and len(sentence.split(\" \"))<20:\n",
        "      df_only_sentence.loc[len(df_only_sentence)]={\"sentence\":sentence.replace(\"\\n\", \" \"),\"e_index\":row.Index}\n",
        "df_only_sentence.to_csv(\"only_sentence_with_punc.csv\",index=False)\n"
      ]
    },
    {
      "cell_type": "code",
      "execution_count": null,
      "metadata": {},
      "outputs": [],
      "source": [
        "df_all_sentence.drop(remove_row, inplace=True)"
      ]
    },
    {
      "cell_type": "code",
      "execution_count": 28,
      "metadata": {},
      "outputs": [],
      "source": [
        "data = pd.read_csv(\"only_sentence.csv\", skip_blank_lines=True)\n",
        "data.dropna(how=\"all\", inplace=True)\n",
        "data.to_csv(\"only_sentence.csv\",index=False)"
      ]
    },
    {
      "cell_type": "code",
      "execution_count": 27,
      "metadata": {},
      "outputs": [],
      "source": [
        "# remove column\n",
        "data.drop(columns=['index','index_0'], inplace=True)"
      ]
    },
    {
      "cell_type": "code",
      "execution_count": 51,
      "metadata": {},
      "outputs": [
        {
          "name": "stdout",
          "output_type": "stream",
          "text": [
            "['তবে', 'এই', 'অভিনয়', 'করবার', 'কি', 'দরকার', 'ছিল', '”নমিতা', 'হাসিয়া', 'কহিল,—“পুলিশে', 'ধরলে', 'আর', 'কি', 'করা', 'যায়', 'বল।”—“কি', 'করা', 'যায়', '']\n"
          ]
        }
      ],
      "source": [
        "print(re.split(\" |\\?\",\"তবে এই অভিনয় করবার কি দরকার ছিল?”নমিতা হাসিয়া কহিল,—“পুলিশে ধরলে আর কি করা যায় বল।”—“কি করা যায়?\"))"
      ]
    },
    {
      "cell_type": "code",
      "execution_count": 57,
      "metadata": {},
      "outputs": [
        {
          "name": "stdout",
          "output_type": "stream",
          "text": [
            "        e_index                                           sentence  ipa\n",
            "0             0  ৯নব্যভারত (ষোড়শ খণ্ড, বৈশাখ-চৈত্র, ১৩০৫), ২৮০...  NaN\n",
            "1             0  তবে ১৮৭২ খ্রিস্টাব্দে বঙ্গদর্শন-এর প্রকাশ এই ধ...  NaN\n",
            "2             0  বস্তুত বাগ্মিতায় অক্ষয়কুমারের ছিল জন্মগত অধি...  NaN\n",
            "3             0  ভারতীয় শিল্পের কথা নামক পুস্তকে ইতিপূর্বে শিল...  NaN\n",
            "4             0  অন্যান্য বিষয়ের সঙ্গে এ পত্রিকায় ঐতিহাসিক প্...  NaN\n",
            "...         ...                                                ...  ...\n",
            "106489     9953              কতো দিন তোমাকে দেখি না তুমি ভালো আছো?  NaN\n",
            "106490     9959  কবকিেো।কবিতাটি আমার খুব ভাল লাগে।বারবার পড়তে ই...  NaN\n",
            "106491     9962  কার কাছে যাবে? পশু-পাখিদের কিছু নিতে তুমুল উল্...  NaN\n",
            "106492     9963  ভুলটি ঠিক করে দেয়া হলো।helel vi apni,2 inchi j...  NaN\n",
            "106493     9963  ভুলটি ঠিক করে দেয়া হলো।helel vi apni,2 inchi j...  NaN\n",
            "\n",
            "[106494 rows x 3 columns]\n"
          ]
        }
      ],
      "source": [
        "print(df_only_sentence)"
      ]
    }
  ],
  "metadata": {
    "kernelspec": {
      "display_name": "base",
      "language": "python",
      "name": "python3"
    },
    "language_info": {
      "codemirror_mode": {
        "name": "ipython",
        "version": 3
      },
      "file_extension": ".py",
      "mimetype": "text/x-python",
      "name": "python",
      "nbconvert_exporter": "python",
      "pygments_lexer": "ipython3",
      "version": "3.11.4"
    },
    "orig_nbformat": 4
  },
  "nbformat": 4,
  "nbformat_minor": 2
}
